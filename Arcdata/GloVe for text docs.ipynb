{
 "cells": [
  {
   "cell_type": "code",
   "execution_count": 31,
   "id": "1f223f4d",
   "metadata": {},
   "outputs": [],
   "source": [
    "import sys\n",
    "import numpy as np\n",
    "import pandas as pd\n",
    "import matplotlib.pyplot as plt\n",
    "\n",
    "from sklearn.ensemble import ExtraTreesClassifier, RandomForestClassifier\n",
    "from gensim.models import KeyedVectors"
   ]
  },
  {
   "cell_type": "code",
   "execution_count": 32,
   "id": "91ba4a9f",
   "metadata": {},
   "outputs": [],
   "source": [
    "train = pd.read_csv('./r8-train-all-terms.txt', header=None, sep='\\t') \n",
    "test = pd.read_csv('./r8-test-all-terms.txt', header=None, sep='\\t')\n",
    "train.columns = ['label', 'content']\n",
    "test.columns = ['label', 'content']"
   ]
  },
  {
   "cell_type": "code",
   "execution_count": 33,
   "id": "35d0cb21",
   "metadata": {},
   "outputs": [],
   "source": [
    "class GloveVectorizer:\n",
    "    \"\"\"Glove Vectorizer Fit Transform class\"\"\"\n",
    "    def __init__(self):\n",
    "        print('Loading word vectors...')\n",
    "        word2vec = {}   # dict\n",
    "        embedding = [] # list of vectors\n",
    "        idx2word = [] # list of words\n",
    "        with open('./glove.6B.50d.txt', encoding='utf-8') as f: \n",
    "            # Is just a space-separated text file in the format:\n",
    "            #  - word vec[0] vec[1] vec[2] ...\n",
    "            for line in f:\n",
    "                values = line.split()\n",
    "                word = values[0]\n",
    "                vec = np.asarray(values[1:], dtype='float32')\n",
    "                word2vec[word] = vec\n",
    "                embedding.append(vec)\n",
    "                idx2word.append(word)\n",
    "        print(f'Found {len(word2vec)} word vectors.')\n",
    "        \n",
    "        self.word2vec = word2vec\n",
    "        self.embedding = np.array(embedding)\n",
    "        self.word2idx = {v:k for k,v in enumerate(idx2word)} # reverse index\n",
    "        self.V, self.D = self.embedding.shape # Vocab size, dimensionality\n",
    "        \n",
    "    def fit(self, data):\n",
    "        pass # nothing to do here\n",
    "    \n",
    "    def transform(self, data):\n",
    "        X = np.zeros((len(data), self.D)) # initialize data matrix X\n",
    "        n = 0  # index's data\n",
    "        emptycount = 0 # how many sentences had words we coudn't find vectors for. \n",
    "        for sentence in data: # Loop through each sentence in the data\n",
    "            tokens = sentence.lower().split()\n",
    "            vecs = [] # stores all word vectors we encounter for this document (sentence)\n",
    "            for word in tokens: # Loop through each words\n",
    "                if word in self.word2vec:  # if word is in vocabularly, append its vector to vecs\n",
    "                    vec = self.word2vec[word]\n",
    "                    vecs.append(vec)\n",
    "            if len(vecs) > 0:            # Check if vecs has any vectors. If yes, assign mean to X[n]\n",
    "                vecs = np.array(vecs)\n",
    "                X[n] = vecs.mean(axis=0)\n",
    "            else:\n",
    "                emptycount += 1\n",
    "            n += 1\n",
    "        print(f'Number of samples with no words found: {emptycount} / {len(data)}')\n",
    "        return X\n",
    "    \n",
    "    def fit_transform(self, data):\n",
    "        self.fit(data)\n",
    "        return self.transform(data) "
   ]
  },
  {
   "cell_type": "code",
   "execution_count": 34,
   "id": "09ab4e88",
   "metadata": {},
   "outputs": [
    {
     "name": "stdout",
     "output_type": "stream",
     "text": [
      "Loading word vectors...\n",
      "Found 400000 word vectors.\n",
      "Number of samples with no words found: 0 / 5485\n",
      "Number of samples with no words found: 0 / 2189\n"
     ]
    }
   ],
   "source": [
    "vectorizer = GloveVectorizer() # Instantiate vectorizer\n",
    "\n",
    "Xtrain = vectorizer.fit_transform(train.content)\n",
    "Ytrain = train.label\n",
    "\n",
    "Xtest = vectorizer.transform(test.content)\n",
    "Ytest = test.label"
   ]
  },
  {
   "cell_type": "code",
   "execution_count": 35,
   "id": "24d0b7a8",
   "metadata": {},
   "outputs": [
    {
     "name": "stdout",
     "output_type": "stream",
     "text": [
      "train score: 0.9992707383773929\n",
      "test score: 0.9333028780264961\n"
     ]
    }
   ],
   "source": [
    "# create the model, train it, print scores\n",
    "model = RandomForestClassifier(n_estimators=200)\n",
    "model.fit(Xtrain, Ytrain)\n",
    "print(\"train score:\", model.score(Xtrain, Ytrain))\n",
    "print(\"test score:\", model.score(Xtest, Ytest))"
   ]
  }
 ],
 "metadata": {
  "kernelspec": {
   "display_name": "Python 3 (ipykernel)",
   "language": "python",
   "name": "python3"
  },
  "language_info": {
   "codemirror_mode": {
    "name": "ipython",
    "version": 3
   },
   "file_extension": ".py",
   "mimetype": "text/x-python",
   "name": "python",
   "nbconvert_exporter": "python",
   "pygments_lexer": "ipython3",
   "version": "3.11.6"
  }
 },
 "nbformat": 4,
 "nbformat_minor": 5
}
