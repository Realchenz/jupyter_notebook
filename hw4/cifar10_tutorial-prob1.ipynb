{
 "cells": [
  {
   "cell_type": "raw",
   "metadata": {},
   "source": [
    "# Problem 1\n",
    "##please change the below cnn architecture to \n",
    "# (1) first cnn with 20 feature maps with kernel 3x3;\n",
    "# (2) second cnn with 60 feature maps with kernel 2x2;\n",
    "# (3) third cnn with 60 feature maps with kernel 3x3.\n",
    "# retrain the model and evaluate the accuracy on the test dataset."
   ]
  },
  {
   "cell_type": "code",
   "execution_count": 68,
   "metadata": {},
   "outputs": [],
   "source": [
    "# For tips on running notebooks in Google Colab, see\n",
    "# https://pytorch.org/tutorials/beginner/colab"
   ]
  },
  {
   "cell_type": "markdown",
   "metadata": {},
   "source": [
    "\n",
    "# Training a Classifier\n",
    "\n",
    "This is it. You have seen how to define neural networks, compute loss and make\n",
    "updates to the weights of the network.\n",
    "\n",
    "Now you might be thinking,\n",
    "\n",
    "## What about data?\n",
    "\n",
    "Generally, when you have to deal with image, text, audio or video data,\n",
    "you can use standard python packages that load data into a numpy array.\n",
    "Then you can convert this array into a ``torch.*Tensor``.\n",
    "\n",
    "-  For images, packages such as Pillow, OpenCV are useful\n",
    "-  For audio, packages such as scipy and librosa\n",
    "-  For text, either raw Python or Cython based loading, or NLTK and\n",
    "   SpaCy are useful\n",
    "\n",
    "Specifically for vision, we have created a package called\n",
    "``torchvision``, that has data loaders for common datasets such as\n",
    "ImageNet, CIFAR10, MNIST, etc. and data transformers for images, viz.,\n",
    "``torchvision.datasets`` and ``torch.utils.data.DataLoader``.\n",
    "\n",
    "This provides a huge convenience and avoids writing boilerplate code.\n",
    "\n",
    "For this tutorial, we will use the CIFAR10 dataset.\n",
    "It has the classes: ‘airplane’, ‘automobile’, ‘bird’, ‘cat’, ‘deer’,\n",
    "‘dog’, ‘frog’, ‘horse’, ‘ship’, ‘truck’. The images in CIFAR-10 are of\n",
    "size 3x32x32, i.e. 3-channel color images of 32x32 pixels in size.\n",
    "\n",
    ".. figure:: /_static/img/cifar10.png\n",
    "   :alt: cifar10\n",
    "\n",
    "   cifar10\n",
    "\n",
    "\n",
    "## Training an image classifier\n",
    "\n",
    "We will do the following steps in order:\n",
    "\n",
    "1. Load and normalize the CIFAR10 training and test datasets using\n",
    "   ``torchvision``\n",
    "2. Define a Convolutional Neural Network\n",
    "3. Define a loss function\n",
    "4. Train the network on the training data\n",
    "5. Test the network on the test data\n",
    "\n",
    "### 1. Load and normalize CIFAR10\n",
    "\n",
    "Using ``torchvision``, it’s extremely easy to load CIFAR10.\n"
   ]
  },
  {
   "cell_type": "code",
   "execution_count": 69,
   "metadata": {},
   "outputs": [],
   "source": [
    "import torch # for tensor operations\n",
    "import torchvision  # for CIFAR dataset\n",
    "import torchvision.transforms as transforms # for data augmentation"
   ]
  },
  {
   "cell_type": "markdown",
   "metadata": {},
   "source": [
    "The output of torchvision datasets are PILImage images of range [0, 1].\n",
    "We transform them to Tensors of normalized range [-1, 1].\n",
    "\n"
   ]
  },
  {
   "cell_type": "markdown",
   "metadata": {},
   "source": [
    "<div class=\"alert alert-info\" style=\"background-color: #aa96da\"><h4>Note</h4><p>If running on Windows and you get a BrokenPipeError, try setting the num_worker of torch.utils.data.DataLoader() to 0.</p></div>\n",
    "\n"
   ]
  },
  {
   "cell_type": "code",
   "execution_count": 70,
   "metadata": {},
   "outputs": [
    {
     "name": "stdout",
     "output_type": "stream",
     "text": [
      "Files already downloaded and verified\n",
      "Files already downloaded and verified\n"
     ]
    }
   ],
   "source": [
    "transform = transforms.Compose( # Compose several transforms together\n",
    "    [transforms.ToTensor(),# Convert PIL image to tensor\n",
    "     transforms.Normalize((0.5, 0.5, 0.5), (0.5, 0.5, 0.5))]) # Normalize to [-1,1]\n",
    "\n",
    "batch_size = 4 # Number of images per batch\n",
    "\n",
    "trainset = torchvision.datasets.CIFAR10(root='./data', train=True,\n",
    "                                        download=True, transform=transform) # Download training data\n",
    "trainloader = torch.utils.data.DataLoader(trainset, batch_size=batch_size,\n",
    "                                          shuffle=True, num_workers=2) # Create dataloader\n",
    "\n",
    "testset = torchvision.datasets.CIFAR10(root='./data', train=False,\n",
    "                                       download=True, transform=transform)\n",
    "testloader = torch.utils.data.DataLoader(testset, batch_size=batch_size,\n",
    "                                         shuffle=False, num_workers=2)\n",
    "\n",
    "classes = ('plane', 'car', 'bird', 'cat',\n",
    "           'deer', 'dog', 'frog', 'horse', 'ship', 'truck') # Class names"
   ]
  },
  {
   "cell_type": "markdown",
   "metadata": {},
   "source": [
    "Let us show some of the training images, for fun.\n",
    "\n"
   ]
  },
  {
   "cell_type": "code",
   "execution_count": 71,
   "metadata": {},
   "outputs": [
    {
     "data": {
      "image/png": "[encoded data removed]",
      "text/plain": [
       "<Figure size 640x480 with 1 Axes>"
      ]
     },
     "metadata": {},
     "output_type": "display_data"
    },
    {
     "name": "stdout",
     "output_type": "stream",
     "text": [
      "bird         horse        bird         deer \n"
     ]
    }
   ],
   "source": [
    "import matplotlib.pyplot as plt\n",
    "import numpy as np\n",
    "\n",
    "# functions to show an image\n",
    "\n",
    "\n",
    "def imshow(img):\n",
    "    img = img / 2 + 0.5     # unnormalize\n",
    "    npimg = img.numpy()\n",
    "    plt.imshow(np.transpose(npimg, (1, 2, 0)))\n",
    "    plt.show()\n",
    "\n",
    "\n",
    "# get some random training images\n",
    "dataiter = iter(trainloader) # Create an iterator\n",
    "images, labels = next(dataiter) # Get the next batch\n",
    "\n",
    "# show images\n",
    "imshow(torchvision.utils.make_grid(images))\n",
    "# print labels\n",
    "print('        '.join(f'{classes[labels[j]]:5s}' for j in range(batch_size)))"
   ]
  },
  {
   "cell_type": "code",
   "execution_count": 72,
   "metadata": {},
   "outputs": [
    {
     "data": {
      "text/plain": [
       "torch.Size([4, 3, 32, 32])"
      ]
     },
     "execution_count": 72,
     "metadata": {},
     "output_type": "execute_result"
    }
   ],
   "source": [
    "images.shape"
   ]
  },
  {
   "cell_type": "code",
   "execution_count": 73,
   "metadata": {},
   "outputs": [
    {
     "data": {
      "text/plain": [
       "tensor([2, 7, 2, 4])"
      ]
     },
     "execution_count": 73,
     "metadata": {},
     "output_type": "execute_result"
    }
   ],
   "source": [
    "labels"
   ]
  },
  {
   "cell_type": "markdown",
   "metadata": {},
   "source": [
    "### 2. Define a Convolutional Neural Network\n",
    "Copy the neural network from the Neural Networks section before and modify it to\n",
    "take 3-channel images (instead of 1-channel images as it was defined).\n",
    "\n"
   ]
  },
  {
   "cell_type": "code",
   "execution_count": 74,
   "metadata": {},
   "outputs": [],
   "source": [
    "import torch.nn as nn # for neural networks\n",
    "import torch.nn.functional as F # for activation functions\n",
    "\n",
    "\n",
    "class Net(nn.Module): # Define a neural network\n",
    "    def __init__(self): # Constructor\n",
    "        super().__init__()\n",
    "        # Define layers(Unmodified)\n",
    "        # self.conv1 = nn.Conv2d(3, 6, 5) # 3 input channels, 6 output channels, 5x5 kernel\n",
    "        # self.pool = nn.MaxPool2d(2, 2) # 2x2 pooling with stride 2\n",
    "        # self.conv2 = nn.Conv2d(6, 16, 5) # 6 input channels, 16 output channels, 5x5 kernel\n",
    "        # self.fc1 = nn.Linear(16 * 5 * 5, 120) # 16*5*5 input features, 120 output features\n",
    "        # self.fc2 = nn.Linear(120, 84)  # 120 input features, 84 output features\n",
    "        # self.fc3 = nn.Linear(84, 10) # 84 input features, 10 output features\n",
    "        # Define layers(20 feature maps with 3X3 kernel)\n",
    "        #self.conv1 = nn.Conv2d(3, 6, 5)\n",
    "        # self.pool = nn.MaxPool2d(2, 2)\n",
    "        # self.conv2 = nn.Conv2d(6, 20, 3)\n",
    "        # self.fc1 = nn.Linear(20 * 6 * 6, 120)\n",
    "        # self.fc2 = nn.Linear(120, 84)\n",
    "        # self.fc3 = nn.Linear(84, 10)\n",
    "        # Define layers(60 feature maps with 2X2 kernel)\n",
    "        # self.conv1 = nn.Conv2d(3, 6, 5)\n",
    "        # self.pool = nn.MaxPool2d(2, 2)\n",
    "        # self.conv2 = nn.Conv2d(6, 60, 2)\n",
    "        # self.fc1 = nn.Linear(60 * 6 * 6, 120)\n",
    "        # self.fc2 = nn.Linear(120, 84)\n",
    "        # self.fc3 = nn.Linear(84, 10)\n",
    "        # Define layers(60 feature maps with 3X3 kernel)\n",
    "        self.conv1 = nn.Conv2d(3, 6, 5)\n",
    "        self.pool = nn.MaxPool2d(2, 2)\n",
    "        self.conv2 = nn.Conv2d(6, 60, 3)\n",
    "        self.fc1 = nn.Linear(60 * 6 * 6, 120)\n",
    "        self.fc2 = nn.Linear(120, 84)\n",
    "        self.fc3 = nn.Linear(84, 10)\n",
    "\n",
    "        \n",
    "\n",
    "    def forward(self, x): # Forward pass\n",
    "        x = self.pool(F.relu(self.conv1(x))) # Apply convolution, then ReLU, then pooling\n",
    "        x = self.pool(F.relu(self.conv2(x))) # Apply convolution, then ReLU, then pooling\n",
    "        x = torch.flatten(x, 1) # flatten all dimensions except batch\n",
    "        x = F.relu(self.fc1(x)) # Apply ReLU\n",
    "        x = F.relu(self.fc2(x)) # Apply ReLU\n",
    "        x = self.fc3(x) # Apply linear layer\n",
    "        return x\n",
    "\n",
    "\n",
    "net = Net() # Create an instance of the network class"
   ]
  },
  {
   "cell_type": "code",
   "execution_count": 75,
   "metadata": {},
   "outputs": [
    {
     "name": "stdout",
     "output_type": "stream",
     "text": [
      "Net(\n",
      "  (conv1): Conv2d(3, 6, kernel_size=(5, 5), stride=(1, 1))\n",
      "  (pool): MaxPool2d(kernel_size=2, stride=2, padding=0, dilation=1, ceil_mode=False)\n",
      "  (conv2): Conv2d(6, 60, kernel_size=(3, 3), stride=(1, 1))\n",
      "  (fc1): Linear(in_features=2160, out_features=120, bias=True)\n",
      "  (fc2): Linear(in_features=120, out_features=84, bias=True)\n",
      "  (fc3): Linear(in_features=84, out_features=10, bias=True)\n",
      ")\n"
     ]
    }
   ],
   "source": [
    "print(net)"
   ]
  },
  {
   "cell_type": "code",
   "execution_count": 76,
   "metadata": {},
   "outputs": [
    {
     "name": "stdout",
     "output_type": "stream",
     "text": [
      "----------------------------------------------------------------\n",
      "        Layer (type)               Output Shape         Param #\n",
      "================================================================\n",
      "            Conv2d-1            [-1, 6, 28, 28]             456\n",
      "         MaxPool2d-2            [-1, 6, 14, 14]               0\n",
      "            Conv2d-3           [-1, 60, 12, 12]           3,300\n",
      "         MaxPool2d-4             [-1, 60, 6, 6]               0\n",
      "            Linear-5                  [-1, 120]         259,320\n",
      "            Linear-6                   [-1, 84]          10,164\n",
      "            Linear-7                   [-1, 10]             850\n",
      "================================================================\n",
      "Total params: 274,090\n",
      "Trainable params: 274,090\n",
      "Non-trainable params: 0\n",
      "----------------------------------------------------------------\n",
      "Input size (MB): 0.01\n",
      "Forward/backward pass size (MB): 0.13\n",
      "Params size (MB): 1.05\n",
      "Estimated Total Size (MB): 1.19\n",
      "----------------------------------------------------------------\n"
     ]
    }
   ],
   "source": [
    "from torchvision import models # for pretrained models\n",
    "from torchsummary import summary # for model summary\n",
    "summary(net, (3, 32, 32)) # Print model summary"
   ]
  },
  {
   "cell_type": "markdown",
   "metadata": {},
   "source": [
    "### 3. Define a Loss function and optimizer\n",
    "Let's use a Classification Cross-Entropy loss and SGD with momentum.\n",
    "\n"
   ]
  },
  {
   "cell_type": "code",
   "execution_count": 77,
   "metadata": {},
   "outputs": [],
   "source": [
    "import torch.optim as optim # for optimizers\n",
    "\n",
    "criterion = nn.CrossEntropyLoss() # Define loss function\n",
    "optimizer = optim.SGD(net.parameters(), lr=0.001, momentum=0.9) # Define optimizer"
   ]
  },
  {
   "cell_type": "markdown",
   "metadata": {},
   "source": [
    "### 4. Train the network\n",
    "\n",
    "This is when things start to get interesting.\n",
    "We simply have to loop over our data iterator, and feed the inputs to the\n",
    "network and optimize.\n",
    "\n"
   ]
  },
  {
   "cell_type": "code",
   "execution_count": 78,
   "metadata": {},
   "outputs": [
    {
     "name": "stdout",
     "output_type": "stream",
     "text": [
      "[1,  2000] loss: 2.150\n",
      "[1,  4000] loss: 1.758\n",
      "[1,  6000] loss: 1.582\n",
      "[1,  8000] loss: 1.487\n",
      "[1, 10000] loss: 1.410\n",
      "[1, 12000] loss: 1.362\n",
      "[2,  2000] loss: 1.255\n",
      "[2,  4000] loss: 1.227\n",
      "[2,  6000] loss: 1.196\n",
      "[2,  8000] loss: 1.168\n",
      "[2, 10000] loss: 1.143\n",
      "[2, 12000] loss: 1.131\n",
      "[3,  2000] loss: 1.028\n",
      "[3,  4000] loss: 1.039\n",
      "[3,  6000] loss: 1.017\n",
      "[3,  8000] loss: 1.011\n",
      "[3, 10000] loss: 1.011\n",
      "[3, 12000] loss: 0.997\n",
      "[4,  2000] loss: 0.870\n",
      "[4,  4000] loss: 0.898\n",
      "[4,  6000] loss: 0.902\n",
      "[4,  8000] loss: 0.898\n",
      "[4, 10000] loss: 0.880\n",
      "[4, 12000] loss: 0.897\n",
      "[5,  2000] loss: 0.744\n",
      "[5,  4000] loss: 0.763\n",
      "[5,  6000] loss: 0.782\n",
      "[5,  8000] loss: 0.791\n",
      "[5, 10000] loss: 0.797\n",
      "[5, 12000] loss: 0.793\n",
      "[6,  2000] loss: 0.620\n",
      "[6,  4000] loss: 0.674\n",
      "[6,  6000] loss: 0.685\n",
      "[6,  8000] loss: 0.696\n",
      "[6, 10000] loss: 0.718\n",
      "[6, 12000] loss: 0.714\n",
      "[7,  2000] loss: 0.538\n",
      "[7,  4000] loss: 0.569\n",
      "[7,  6000] loss: 0.602\n",
      "[7,  8000] loss: 0.584\n",
      "[7, 10000] loss: 0.628\n",
      "[7, 12000] loss: 0.643\n",
      "[8,  2000] loss: 0.456\n",
      "[8,  4000] loss: 0.505\n",
      "[8,  6000] loss: 0.510\n",
      "[8,  8000] loss: 0.522\n",
      "[8, 10000] loss: 0.563\n",
      "[8, 12000] loss: 0.569\n",
      "[9,  2000] loss: 0.372\n",
      "[9,  4000] loss: 0.407\n",
      "[9,  6000] loss: 0.439\n",
      "[9,  8000] loss: 0.473\n",
      "[9, 10000] loss: 0.510\n",
      "[9, 12000] loss: 0.505\n",
      "[10,  2000] loss: 0.329\n",
      "[10,  4000] loss: 0.368\n",
      "[10,  6000] loss: 0.402\n",
      "[10,  8000] loss: 0.432\n",
      "[10, 10000] loss: 0.431\n",
      "[10, 12000] loss: 0.448\n",
      "Finished Training\n"
     ]
    }
   ],
   "source": [
    "for epoch in range(10):  # loop over the dataset multiple times\n",
    "\n",
    "    running_loss = 0.0 # Initialize running loss\n",
    "    for i, data in enumerate(trainloader, 0): # Iterate over batches\n",
    "        # get the inputs; data is a list of [inputs, labels]\n",
    "        inputs, labels = data\n",
    "\n",
    "        # zero the parameter gradients\n",
    "        optimizer.zero_grad()\n",
    "\n",
    "        # forward + backward + optimize\n",
    "        outputs = net(inputs) # Forward pass\n",
    "        loss = criterion(outputs, labels) # Compute loss\n",
    "        loss.backward() # Backward pass\n",
    "        optimizer.step() # Optimize\n",
    "\n",
    "        # print statistics\n",
    "        running_loss += loss.item()\n",
    "        if i % 2000 == 1999:    # print every 2000 mini-batches\n",
    "            print(f'[{epoch + 1}, {i + 1:5d}] loss: {running_loss / 2000:.3f}')\n",
    "            running_loss = 0.0\n",
    "\n",
    "print('Finished Training')"
   ]
  },
  {
   "cell_type": "markdown",
   "metadata": {},
   "source": [
    "Let's quickly save our trained model:\n",
    "\n"
   ]
  },
  {
   "cell_type": "code",
   "execution_count": 79,
   "metadata": {},
   "outputs": [],
   "source": [
    "PATH = './cifar_net_3.pth'\n",
    "torch.save(net.state_dict(), PATH)"
   ]
  },
  {
   "cell_type": "markdown",
   "metadata": {},
   "source": [
    "See [here](https://pytorch.org/docs/stable/notes/serialization.html)\n",
    "for more details on saving PyTorch models.\n",
    "\n",
    "### 5. Test the network on the test data\n",
    "\n",
    "We have trained the network for 2 passes over the training dataset.\n",
    "But we need to check if the network has learnt anything at all.\n",
    "\n",
    "We will check this by predicting the class label that the neural network\n",
    "outputs, and checking it against the ground-truth. If the prediction is\n",
    "correct, we add the sample to the list of correct predictions.\n",
    "\n",
    "Okay, first step. Let us display an image from the test set to get familiar.\n",
    "\n"
   ]
  },
  {
   "cell_type": "code",
   "execution_count": 80,
   "metadata": {},
   "outputs": [
    {
     "data": {
      "image/png": "[encoded data removed]",
      "text/plain": [
       "<Figure size 640x480 with 1 Axes>"
      ]
     },
     "metadata": {},
     "output_type": "display_data"
    },
    {
     "name": "stdout",
     "output_type": "stream",
     "text": [
      "GroundTruth:  cat   ship  ship  plane\n"
     ]
    }
   ],
   "source": [
    "dataiter = iter(testloader)\n",
    "images, labels = next(dataiter)\n",
    "\n",
    "# print images\n",
    "imshow(torchvision.utils.make_grid(images))\n",
    "print('GroundTruth: ', ' '.join(f'{classes[labels[j]]:5s}' for j in range(4)))"
   ]
  },
  {
   "cell_type": "markdown",
   "metadata": {},
   "source": [
    "Next, let's load back in our saved model (note: saving and re-loading the model\n",
    "wasn't necessary here, we only did it to illustrate how to do so):\n",
    "\n"
   ]
  },
  {
   "cell_type": "code",
   "execution_count": 81,
   "metadata": {},
   "outputs": [
    {
     "data": {
      "text/plain": [
       "<All keys matched successfully>"
      ]
     },
     "execution_count": 81,
     "metadata": {},
     "output_type": "execute_result"
    }
   ],
   "source": [
    "net = Net()\n",
    "net.load_state_dict(torch.load(PATH))"
   ]
  },
  {
   "cell_type": "markdown",
   "metadata": {},
   "source": [
    "Okay, now let us see what the neural network thinks these examples above are:\n",
    "\n"
   ]
  },
  {
   "cell_type": "code",
   "execution_count": 82,
   "metadata": {},
   "outputs": [],
   "source": [
    "outputs = net(images)"
   ]
  },
  {
   "cell_type": "markdown",
   "metadata": {},
   "source": [
    "The outputs are energies for the 10 classes.\n",
    "The higher the energy for a class, the more the network\n",
    "thinks that the image is of the particular class.\n",
    "So, let's get the index of the highest energy:\n",
    "\n"
   ]
  },
  {
   "cell_type": "code",
   "execution_count": 83,
   "metadata": {},
   "outputs": [
    {
     "name": "stdout",
     "output_type": "stream",
     "text": [
      "Predicted:  cat   ship  ship  plane\n"
     ]
    }
   ],
   "source": [
    "_, predicted = torch.max(outputs, 1)\n",
    "\n",
    "print('Predicted: ', ' '.join(f'{classes[predicted[j]]:5s}'\n",
    "                              for j in range(4)))"
   ]
  },
  {
   "cell_type": "markdown",
   "metadata": {},
   "source": [
    "The results seem pretty good.\n",
    "\n",
    "Let us look at how the network performs on the whole dataset.\n",
    "\n"
   ]
  },
  {
   "cell_type": "code",
   "execution_count": 84,
   "metadata": {},
   "outputs": [
    {
     "name": "stdout",
     "output_type": "stream",
     "text": [
      "Accuracy of the network on the 10000 test images: 63 %\n"
     ]
    }
   ],
   "source": [
    "correct = 0\n",
    "total = 0\n",
    "# since we're not training, we don't need to calculate the gradients for our outputs\n",
    "with torch.no_grad():\n",
    "    for data in testloader:\n",
    "        images, labels = data\n",
    "        # calculate outputs by running images through the network\n",
    "        outputs = net(images)\n",
    "        # the class with the highest energy is what we choose as prediction\n",
    "        _, predicted = torch.max(outputs.data, 1)\n",
    "        total += labels.size(0)\n",
    "        correct += (predicted == labels).sum().item()\n",
    "\n",
    "print(f'Accuracy of the network on the 10000 test images: {100 * correct // total} %')"
   ]
  },
  {
   "cell_type": "markdown",
   "metadata": {},
   "source": [
    "That looks way better than chance, which is 10% accuracy (randomly picking\n",
    "a class out of 10 classes).\n",
    "Seems like the network learnt something.\n",
    "\n",
    "Hmmm, what are the classes that performed well, and the classes that did\n",
    "not perform well:\n",
    "\n"
   ]
  },
  {
   "cell_type": "code",
   "execution_count": 85,
   "metadata": {},
   "outputs": [
    {
     "name": "stdout",
     "output_type": "stream",
     "text": [
      "Accuracy for class: plane is 65.2 %\n",
      "Accuracy for class: car   is 73.6 %\n",
      "Accuracy for class: bird  is 50.9 %\n",
      "Accuracy for class: cat   is 48.5 %\n",
      "Accuracy for class: deer  is 44.8 %\n",
      "Accuracy for class: dog   is 58.6 %\n",
      "Accuracy for class: frog  is 79.1 %\n",
      "Accuracy for class: horse is 67.2 %\n",
      "Accuracy for class: ship  is 75.0 %\n",
      "Accuracy for class: truck is 74.8 %\n"
     ]
    }
   ],
   "source": [
    "# prepare to count predictions for each class\n",
    "correct_pred = {classname: 0 for classname in classes}\n",
    "total_pred = {classname: 0 for classname in classes}\n",
    "\n",
    "# again no gradients needed\n",
    "with torch.no_grad():\n",
    "    for data in testloader:\n",
    "        images, labels = data\n",
    "        outputs = net(images)\n",
    "        _, predictions = torch.max(outputs, 1)\n",
    "        # collect the correct predictions for each class\n",
    "        for label, prediction in zip(labels, predictions):\n",
    "            if label == prediction:\n",
    "                correct_pred[classes[label]] += 1\n",
    "            total_pred[classes[label]] += 1\n",
    "\n",
    "\n",
    "# print accuracy for each class\n",
    "for classname, correct_count in correct_pred.items():\n",
    "    accuracy = 100 * float(correct_count) / total_pred[classname]\n",
    "    print(f'Accuracy for class: {classname:5s} is {accuracy:.1f} %')"
   ]
  },
  {
   "cell_type": "markdown",
   "metadata": {},
   "source": [
    "## Unmodified model\n",
    "Accuracy for class: plane is 61.2 %<br>\n",
    "Accuracy for class: car   is 81.1 %<br>\n",
    "Accuracy for class: bird  is 43.5 %<br>\n",
    "Accuracy for class: cat   is 36.7 %<br>\n",
    "Accuracy for class: deer  is 58.3 %<br>\n",
    "Accuracy for class: dog   is 61.9 %<br>\n",
    "Accuracy for class: frog  is 69.6 %<br>\n",
    "Accuracy for class: horse is 67.2 %<br>\n",
    "Accuracy for class: ship  is 80.0 %<br>\n",
    "Accuracy for class: truck is 68.4 %<br>\n",
    "\n",
    "## 20 feature maps with kernel 3x3\n",
    "Accuracy for class: plane is 72.0 %<br>\n",
    "Accuracy for class: car   is 68.5 %<br>\n",
    "Accuracy for class: bird  is 51.4 %<br>\n",
    "Accuracy for class: cat   is 49.3 %<br>\n",
    "Accuracy for class: deer  is 58.0 %<br>\n",
    "Accuracy for class: dog   is 39.5 %<br>\n",
    "Accuracy for class: frog  is 75.6 %<br>\n",
    "Accuracy for class: horse is 76.0 %<br>\n",
    "Accuracy for class: ship  is 74.2 %<br>\n",
    "Accuracy for class: truck is 64.7 %<br>\n",
    "\n",
    "## 60 feature maps with kernel 2x2\n",
    "Accuracy for class: plane is 69.7 %<br>\n",
    "Accuracy for class: car   is 78.3 %<br>\n",
    "Accuracy for class: bird  is 51.3 %<br>\n",
    "Accuracy for class: cat   is 44.3 %<br>\n",
    "Accuracy for class: deer  is 66.2 %<br>\n",
    "Accuracy for class: dog   is 47.4 %<br>\n",
    "Accuracy for class: frog  is 60.0 %<br>\n",
    "Accuracy for class: horse is 67.2 %<br>\n",
    "Accuracy for class: ship  is 71.0 %<br>\n",
    "Accuracy for class: truck is 71.5 %<br>\n",
    "\n",
    "## 60 feature maps with kernel 3x3\n",
    "Accuracy for class: plane is 65.2 %<br>\n",
    "Accuracy for class: car   is 73.6 %<br>\n",
    "Accuracy for class: bird  is 50.9 %<br>\n",
    "Accuracy for class: cat   is 48.5 %<br>\n",
    "Accuracy for class: deer  is 44.8 %<br>\n",
    "Accuracy for class: dog   is 58.6 %<br>\n",
    "Accuracy for class: frog  is 79.1 %<br>\n",
    "Accuracy for class: horse is 67.2 %<br>\n",
    "Accuracy for class: ship  is 75.0 %<br>\n",
    "Accuracy for class: truck is 74.8 %<br>"
   ]
  },
  {
   "cell_type": "markdown",
   "metadata": {},
   "source": [
    "Okay, so what next?\n",
    "\n",
    "How do we run these neural networks on the GPU?\n",
    "\n",
    "## Training on GPU\n",
    "Just like how you transfer a Tensor onto the GPU, you transfer the neural\n",
    "net onto the GPU.\n",
    "\n",
    "Let's first define our device as the first visible cuda device if we have\n",
    "CUDA available:\n",
    "\n"
   ]
  },
  {
   "cell_type": "code",
   "execution_count": 86,
   "metadata": {},
   "outputs": [],
   "source": [
    "# device = torch.device('cuda:0' if torch.cuda.is_available() else 'cpu')\n",
    "\n",
    "# # Assuming that we are on a CUDA machine, this should print a CUDA device:\n",
    "\n",
    "# print(device)"
   ]
  },
  {
   "cell_type": "markdown",
   "metadata": {},
   "source": [
    "The rest of this section assumes that ``device`` is a CUDA device.\n",
    "\n",
    "Then these methods will recursively go over all modules and convert their\n",
    "parameters and buffers to CUDA tensors:\n",
    "\n",
    ".. code:: python\n",
    "\n",
    "    net.to(device)\n",
    "\n",
    "\n",
    "Remember that you will have to send the inputs and targets at every step\n",
    "to the GPU too:\n",
    "\n",
    ".. code:: python\n",
    "\n",
    "        inputs, labels = data[0].to(device), data[1].to(device)\n",
    "\n",
    "Why don't I notice MASSIVE speedup compared to CPU? Because your network\n",
    "is really small.\n",
    "\n",
    "**Exercise:** Try increasing the width of your network (argument 2 of\n",
    "the first ``nn.Conv2d``, and argument 1 of the second ``nn.Conv2d`` –\n",
    "they need to be the same number), see what kind of speedup you get.\n",
    "\n",
    "**Goals achieved**:\n",
    "\n",
    "- Understanding PyTorch's Tensor library and neural networks at a high level.\n",
    "- Train a small neural network to classify images\n",
    "\n",
    "## Training on multiple GPUs\n",
    "If you want to see even more MASSIVE speedup using all of your GPUs,\n",
    "please check out :doc:`data_parallel_tutorial`.\n",
    "\n",
    "## Where do I go next?\n",
    "\n",
    "-  :doc:`Train neural nets to play video games </intermediate/reinforcement_q_learning>`\n",
    "-  `Train a state-of-the-art ResNet network on imagenet`_\n",
    "-  `Train a face generator using Generative Adversarial Networks`_\n",
    "-  `Train a word-level language model using Recurrent LSTM networks`_\n",
    "-  `More examples`_\n",
    "-  `More tutorials`_\n",
    "-  `Discuss PyTorch on the Forums`_\n",
    "-  `Chat with other users on Slack`_\n",
    "\n",
    "\n"
   ]
  },
  {
   "cell_type": "code",
   "execution_count": 87,
   "metadata": {},
   "outputs": [],
   "source": [
    "#del dataiter"
   ]
  }
 ],
 "metadata": {
  "kernelspec": {
   "display_name": "Python 3 (ipykernel)",
   "language": "python",
   "name": "python3"
  },
  "language_info": {
   "codemirror_mode": {
    "name": "ipython",
    "version": 3
   },
   "file_extension": ".py",
   "mimetype": "text/x-python",
   "name": "python",
   "nbconvert_exporter": "python",
   "pygments_lexer": "ipython3",
   "version": "3.11.6"
  }
 },
 "nbformat": 4,
 "nbformat_minor": 1
}
