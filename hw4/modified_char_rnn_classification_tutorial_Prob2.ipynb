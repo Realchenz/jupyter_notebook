{
 "cells": [
  {
   "cell_type": "markdown",
   "metadata": {},
   "source": [
    "# # can you replace the  RNN model with your own implementation of LSTM? What is the overall accuracy you obtain?"
   ]
  },
  {
   "cell_type": "code",
   "execution_count": 46,
   "metadata": {},
   "outputs": [],
   "source": [
    "# For tips on running notebooks in Google Colab, see\n",
    "# https://pytorch.org/tutorials/beginner/colab"
   ]
  },
  {
   "cell_type": "markdown",
   "metadata": {},
   "source": [
    "\n",
    "# NLP From Scratch: Classifying Names with a Character-Level RNN\n",
    "**Author**: [Sean Robertson](https://github.com/spro)\n",
    "\n",
    "We will be building and training a basic character-level Recurrent Neural\n",
    "Network (RNN) to classify words. This tutorial, along with two other\n",
    "Natural Language Processing (NLP) \"from scratch\" tutorials\n",
    ":doc:`/intermediate/char_rnn_generation_tutorial` and\n",
    ":doc:`/intermediate/seq2seq_translation_tutorial`, show how to\n",
    "preprocess data to model NLP. In particular these tutorials do not\n",
    "use many of the convenience functions of `torchtext`, so you can see how\n",
    "preprocessing to model NLP works at a low level.\n",
    "\n",
    "A character-level RNN reads words as a series of characters -\n",
    "outputting a prediction and \"hidden state\" at each step, feeding its\n",
    "previous hidden state into each next step. We take the final prediction\n",
    "to be the output, i.e. which class the word belongs to.\n",
    "\n",
    "Specifically, we'll train on a few thousand surnames from 18 languages\n",
    "of origin, and predict which language a name is from based on the\n",
    "spelling:\n",
    "\n",
    "::\n",
    "\n",
    "    $ python predict.py Hinton\n",
    "    (-0.47) Scottish\n",
    "    (-1.52) English\n",
    "    (-3.57) Irish\n",
    "\n",
    "    $ python predict.py Schmidhuber\n",
    "    (-0.19) German\n",
    "    (-2.48) Czech\n",
    "    (-2.68) Dutch\n",
    "\n",
    "\n",
    "## Recommended Preparation\n",
    "\n",
    "Before starting this tutorial it is recommended that you have installed PyTorch,\n",
    "and have a basic understanding of Python programming language and Tensors:\n",
    "\n",
    "-  https://pytorch.org/ For installation instructions\n",
    "-  :doc:`/beginner/deep_learning_60min_blitz` to get started with PyTorch in general\n",
    "   and learn the basics of Tensors\n",
    "-  :doc:`/beginner/pytorch_with_examples` for a wide and deep overview\n",
    "-  :doc:`/beginner/former_torchies_tutorial` if you are former Lua Torch user\n",
    "\n",
    "It would also be useful to know about RNNs and how they work:\n",
    "\n",
    "-  [The Unreasonable Effectiveness of Recurrent Neural\n",
    "   Networks](https://karpathy.github.io/2015/05/21/rnn-effectiveness/)_\n",
    "   shows a bunch of real life examples\n",
    "-  [Understanding LSTM\n",
    "   Networks](https://colah.github.io/posts/2015-08-Understanding-LSTMs/)_\n",
    "   is about LSTMs specifically but also informative about RNNs in\n",
    "   general\n",
    "\n",
    "## Preparing the Data\n",
    "\n",
    ".. Note::\n",
    "   Download the data from\n",
    "   [here](https://download.pytorch.org/tutorial/data.zip)\n",
    "   and extract it to the current directory.\n",
    "\n",
    "Included in the ``data/names`` directory are 18 text files named as\n",
    "``[Language].txt``. Each file contains a bunch of names, one name per\n",
    "line, mostly romanized (but we still need to convert from Unicode to\n",
    "ASCII).\n",
    "\n",
    "We'll end up with a dictionary of lists of names per language,\n",
    "``{language: [names ...]}``. The generic variables \"category\" and \"line\"\n",
    "(for language and name in our case) are used for later extensibility.\n"
   ]
  },
  {
   "cell_type": "code",
   "execution_count": 47,
   "metadata": {},
   "outputs": [
    {
     "name": "stdout",
     "output_type": "stream",
     "text": [
      "['data/names/Czech.txt', 'data/names/German.txt', 'data/names/Arabic.txt', 'data/names/Japanese.txt', 'data/names/Chinese.txt', 'data/names/Vietnamese.txt', 'data/names/Russian.txt', 'data/names/French.txt', 'data/names/Irish.txt', 'data/names/English.txt', 'data/names/Spanish.txt', 'data/names/Greek.txt', 'data/names/Italian.txt', 'data/names/Portuguese.txt', 'data/names/Scottish.txt', 'data/names/Dutch.txt', 'data/names/Korean.txt', 'data/names/Polish.txt']\n",
      "Slusarski\n"
     ]
    }
   ],
   "source": [
    "from io import open\n",
    "import glob\n",
    "import os\n",
    "\n",
    "def findFiles(path): return glob.glob(path) # use glob to find all the pathnames matching a specified pattern according to the rules used by the Unix shell\n",
    "\n",
    "print(findFiles('data/names/*.txt'))\n",
    "\n",
    "import unicodedata\n",
    "import string\n",
    "\n",
    "all_letters = string.ascii_letters + \" .,;'\"\n",
    "n_letters = len(all_letters)\n",
    "\n",
    "# Turn a Unicode string to plain ASCII, thanks to https://stackoverflow.com/a/518232/2809427\n",
    "def unicodeToAscii(s):\n",
    "    return ''.join(\n",
    "        c for c in unicodedata.normalize('NFD', s) # NFD: Normalization Form Canonical Decomposition\n",
    "        if unicodedata.category(c) != 'Mn'\n",
    "        and c in all_letters\n",
    "    )\n",
    "\n",
    "print(unicodeToAscii('Ślusàrski'))\n",
    "\n",
    "# Build the category_lines dictionary, a list of names per language\n",
    "category_lines = {}\n",
    "all_categories = []\n",
    "\n",
    "# Read a file and split into lines\n",
    "def readLines(filename):\n",
    "    lines = open(filename, encoding='utf-8').read().strip().split('\\n')\n",
    "    return [unicodeToAscii(line) for line in lines]\n",
    "\n",
    "for filename in findFiles('data/names/*.txt'):\n",
    "    category = os.path.splitext(os.path.basename(filename))[0]\n",
    "    all_categories.append(category)\n",
    "    lines = readLines(filename)\n",
    "    category_lines[category] = lines\n",
    "\n",
    "n_categories = len(all_categories)"
   ]
  },
  {
   "cell_type": "markdown",
   "metadata": {},
   "source": [
    "Now we have ``category_lines``, a dictionary mapping each category\n",
    "(language) to a list of lines (names). We also kept track of\n",
    "``all_categories`` (just a list of languages) and ``n_categories`` for\n",
    "later reference.\n",
    "\n",
    "\n"
   ]
  },
  {
   "cell_type": "code",
   "execution_count": 48,
   "metadata": {},
   "outputs": [
    {
     "name": "stdout",
     "output_type": "stream",
     "text": [
      "['Abandonato', 'Abatangelo', 'Abatantuono', 'Abate', 'Abategiovanni']\n"
     ]
    }
   ],
   "source": [
    "print(category_lines['Italian'][:5])"
   ]
  },
  {
   "cell_type": "code",
   "execution_count": 49,
   "metadata": {},
   "outputs": [
    {
     "data": {
      "text/plain": [
       "['Abbas', 'Abbey', 'Abbott', 'Abdi', 'Abel']"
      ]
     },
     "execution_count": 49,
     "metadata": {},
     "output_type": "execute_result"
    }
   ],
   "source": [
    "category_lines['English'][:5]"
   ]
  },
  {
   "cell_type": "markdown",
   "metadata": {},
   "source": [
    "### Turning Names into Tensors\n",
    "\n",
    "Now that we have all the names organized, we need to turn them into\n",
    "Tensors to make any use of them.\n",
    "\n",
    "To represent a single letter, we use a \"one-hot vector\" of size\n",
    "``<1 x n_letters>``. A one-hot vector is filled with 0s except for a 1\n",
    "at index of the current letter, e.g. ``\"b\" = <0 1 0 0 0 ...>``.\n",
    "\n",
    "To make a word we join a bunch of those into a 2D matrix\n",
    "``<line_length x 1 x n_letters>``.\n",
    "\n",
    "That extra 1 dimension is because PyTorch assumes everything is in\n",
    "batches - we're just using a batch size of 1 here.\n",
    "\n",
    "\n"
   ]
  },
  {
   "cell_type": "code",
   "execution_count": 50,
   "metadata": {},
   "outputs": [
    {
     "name": "stdout",
     "output_type": "stream",
     "text": [
      "tensor([[0., 0., 0., 0., 0., 0., 0., 0., 0., 0., 0., 0., 0., 0., 0., 0., 0., 0.,\n",
      "         0., 0., 0., 0., 0., 0., 0., 0., 0., 0., 0., 0., 0., 0., 0., 0., 0., 1.,\n",
      "         0., 0., 0., 0., 0., 0., 0., 0., 0., 0., 0., 0., 0., 0., 0., 0., 0., 0.,\n",
      "         0., 0., 0.]])\n",
      "torch.Size([5, 1, 57])\n"
     ]
    }
   ],
   "source": [
    "import torch\n",
    "\n",
    "# Find letter index from all_letters, e.g. \"a\" = 0\n",
    "def letterToIndex(letter):\n",
    "    return all_letters.find(letter)\n",
    "\n",
    "# Just for demonstration, turn a letter into a <1 x n_letters> Tensor\n",
    "def letterToTensor(letter):\n",
    "    tensor = torch.zeros(1, n_letters)\n",
    "    tensor[0][letterToIndex(letter)] = 1\n",
    "    return tensor\n",
    "\n",
    "# Turn a line into a <line_length x 1 x n_letters>,\n",
    "# or an array of one-hot letter vectors\n",
    "def lineToTensor(line):\n",
    "    tensor = torch.zeros(len(line), 1, n_letters)\n",
    "    for li, letter in enumerate(line):\n",
    "        tensor[li][0][letterToIndex(letter)] = 1\n",
    "    return tensor\n",
    "\n",
    "print(letterToTensor('J'))\n",
    "\n",
    "print(lineToTensor('Jones').size())"
   ]
  },
  {
   "cell_type": "markdown",
   "metadata": {},
   "source": [
    "## Creating the Network\n",
    "\n",
    "Before autograd, creating a recurrent neural network in Torch involved\n",
    "cloning the parameters of a layer over several timesteps. The layers\n",
    "held hidden state and gradients which are now entirely handled by the\n",
    "graph itself. This means you can implement a RNN in a very \"pure\" way,\n",
    "as regular feed-forward layers.\n",
    "\n",
    "This RNN module (mostly copied from [the PyTorch for Torch users\n",
    "tutorial](https://pytorch.org/tutorials/beginner/former_torchies/\n",
    "nn_tutorial.html#example-2-recurrent-net)_)\n",
    "is just 2 linear layers which operate on an input and hidden state, with\n",
    "a ``LogSoftmax`` layer after the output.\n",
    "\n",
    "\n"
   ]
  },
  {
   "cell_type": "code",
   "execution_count": 51,
   "metadata": {},
   "outputs": [],
   "source": [
    "\n",
    "import torch.nn as nn\n",
    "\n",
    "class LSTM(nn.Module):\n",
    "    def __init__(self, input_size, hidden_size, output_size):\n",
    "        super(LSTM, self).__init__()\n",
    "\n",
    "        self.hidden_size = hidden_size\n",
    "        self.lstm = nn.LSTM(input_size, hidden_size)  # LSTM layer\n",
    "        self.h2o = nn.Linear(hidden_size, output_size)\n",
    "        self.softmax = nn.LogSoftmax(dim=1)\n",
    "\n",
    "    def forward(self, input, hidden):\n",
    "        # iterate over the input sequence\n",
    "        for i in range(input.size(0)):\n",
    "            output, hidden = self.lstm(input[i].view(1, 1, -1), hidden)\n",
    "        output = self.h2o(output[0])\n",
    "        output = self.softmax(output)\n",
    "        return output, hidden\n",
    "    \n",
    "    def initHidden(self):\n",
    "        return (torch.zeros(1, 1, self.hidden_size),  # hidden state\n",
    "                torch.zeros(1, 1, self.hidden_size))  # cell state\n",
    "\n",
    "n_hidden = 128\n",
    "lstm = LSTM(n_letters, n_hidden, n_categories)\n"
   ]
  },
  {
   "cell_type": "markdown",
   "metadata": {},
   "source": [
    "To run a step of this network we need to pass an input (in our case, the\n",
    "Tensor for the current letter) and a previous hidden state (which we\n",
    "initialize as zeros at first). We'll get back the output (probability of\n",
    "each language) and a next hidden state (which we keep for the next\n",
    "step).\n",
    "\n",
    "\n"
   ]
  },
  {
   "cell_type": "code",
   "execution_count": 52,
   "metadata": {},
   "outputs": [],
   "source": [
    "input = letterToTensor('A')\n",
    "hidden = (torch.zeros(1, 1, n_hidden), torch.zeros(1, 1, n_hidden))\n",
    "\n",
    "output, next_hidden = lstm(input, hidden)"
   ]
  },
  {
   "cell_type": "markdown",
   "metadata": {},
   "source": [
    "For the sake of efficiency we don't want to be creating a new Tensor for\n",
    "every step, so we will use ``lineToTensor`` instead of\n",
    "``letterToTensor`` and use slices. This could be further optimized by\n",
    "precomputing batches of Tensors.\n",
    "\n",
    "\n"
   ]
  },
  {
   "cell_type": "code",
   "execution_count": 53,
   "metadata": {},
   "outputs": [
    {
     "name": "stdout",
     "output_type": "stream",
     "text": [
      "tensor([[-2.8082, -2.9707, -2.9327, -2.9420, -2.9590, -2.8159, -2.8450, -2.9519,\n",
      "         -2.8107, -2.8899, -2.8856, -2.9550, -2.8779, -2.8219, -2.8387, -2.9664,\n",
      "         -2.9755, -2.8148]], grad_fn=<LogSoftmaxBackward0>)\n"
     ]
    }
   ],
   "source": [
    "input = lineToTensor('Albert')\n",
    "hidden = (torch.zeros(1, 1, n_hidden), torch.zeros(1, 1, n_hidden))\n",
    "\n",
    "output, next_hidden = lstm(input, hidden)\n",
    "print(output)"
   ]
  },
  {
   "cell_type": "code",
   "execution_count": 54,
   "metadata": {},
   "outputs": [
    {
     "data": {
      "text/plain": [
       "(torch.Size([1, 18]),\n",
       " tensor([[-2.8082, -2.9707, -2.9327, -2.9420, -2.9590, -2.8159, -2.8450, -2.9519,\n",
       "          -2.8107, -2.8899, -2.8856, -2.9550, -2.8779, -2.8219, -2.8387, -2.9664,\n",
       "          -2.9755, -2.8148]], grad_fn=<LogSoftmaxBackward0>))"
      ]
     },
     "execution_count": 54,
     "metadata": {},
     "output_type": "execute_result"
    }
   ],
   "source": [
    "output.shape, output"
   ]
  },
  {
   "cell_type": "code",
   "execution_count": 55,
   "metadata": {},
   "outputs": [
    {
     "data": {
      "text/plain": [
       "(tensor([[[-7.2535e-02, -2.2814e-02,  2.4815e-02, -1.0240e-02, -4.1294e-02,\n",
       "           -5.2256e-02, -4.1926e-02, -6.1214e-02,  7.3515e-02,  6.6166e-03,\n",
       "           -1.5909e-02,  5.3002e-03, -2.6494e-02,  4.0984e-02,  2.2256e-02,\n",
       "            4.8494e-02, -7.8833e-03,  3.9176e-02, -1.5848e-02, -5.3411e-02,\n",
       "            4.6927e-02,  1.7119e-02, -3.0764e-02,  4.9434e-02,  1.7302e-03,\n",
       "           -1.0545e-02, -1.7249e-02, -9.1668e-02, -3.8637e-02,  1.3479e-02,\n",
       "            6.2759e-02, -3.4735e-02,  1.3575e-02,  6.0272e-06, -1.1178e-02,\n",
       "           -8.0401e-02,  3.8962e-02, -5.5596e-02,  2.9434e-02,  3.0636e-02,\n",
       "            2.2538e-02,  1.3482e-02,  3.8342e-02,  8.0018e-02, -1.7144e-02,\n",
       "            6.2980e-02, -8.4000e-02,  5.8798e-02, -4.5444e-02, -1.8606e-02,\n",
       "            4.2196e-02, -7.7648e-05,  6.5027e-02,  2.8311e-02,  3.2641e-02,\n",
       "           -8.0459e-04, -2.6494e-02, -3.0480e-02, -2.5689e-03, -4.1939e-02,\n",
       "            5.0667e-02, -7.0079e-03,  5.7913e-02, -2.3097e-02, -1.5386e-02,\n",
       "            2.1227e-02, -9.5155e-03, -2.3736e-02, -6.1685e-02, -3.3929e-02,\n",
       "           -6.0420e-02,  3.6226e-02,  2.2731e-02, -2.5414e-02, -5.3779e-02,\n",
       "           -3.4263e-02, -2.9970e-02, -3.0243e-02,  5.3312e-02, -5.3906e-02,\n",
       "            3.3614e-02,  2.3876e-02,  2.2104e-03,  1.2107e-02,  3.8082e-02,\n",
       "            3.1094e-02, -1.0136e-02,  2.8302e-02,  3.6146e-02,  8.5712e-02,\n",
       "           -6.4690e-02, -1.2712e-03, -5.4660e-04,  6.5972e-02,  4.8670e-02,\n",
       "            7.6520e-02, -3.0839e-02, -3.1540e-02, -2.1896e-02,  2.3264e-02,\n",
       "            1.7584e-02, -4.7533e-02, -5.4397e-02,  3.4380e-02, -6.6964e-03,\n",
       "           -5.2066e-02, -8.9488e-04,  2.0736e-02,  5.0937e-02, -3.7330e-02,\n",
       "            6.1618e-02, -5.2190e-03,  3.3854e-02,  2.5585e-02,  4.8609e-03,\n",
       "            3.8412e-03,  6.9365e-02,  1.0511e-01,  2.6336e-02, -1.7506e-02,\n",
       "            2.9479e-02, -5.3092e-02,  5.9635e-02,  3.7941e-02,  1.8888e-02,\n",
       "            5.3974e-02, -4.6380e-03, -7.1488e-02]]], grad_fn=<StackBackward0>),\n",
       " tensor([[[-1.3809e-01, -4.8258e-02,  4.8485e-02, -1.9975e-02, -8.7166e-02,\n",
       "           -9.9468e-02, -8.2051e-02, -1.2775e-01,  1.4782e-01,  1.3851e-02,\n",
       "           -3.0200e-02,  1.0638e-02, -4.9640e-02,  8.5982e-02,  4.5883e-02,\n",
       "            1.0090e-01, -1.5844e-02,  7.8467e-02, -3.4186e-02, -9.8313e-02,\n",
       "            9.3667e-02,  3.2270e-02, -6.7929e-02,  1.0116e-01,  3.5359e-03,\n",
       "           -2.0696e-02, -3.5384e-02, -1.9384e-01, -7.3009e-02,  2.7863e-02,\n",
       "            1.1904e-01, -7.1007e-02,  2.6474e-02,  1.2253e-05, -2.1665e-02,\n",
       "           -1.5678e-01,  8.0176e-02, -1.0417e-01,  5.8186e-02,  6.3234e-02,\n",
       "            4.7351e-02,  2.6437e-02,  6.9608e-02,  1.6087e-01, -3.6191e-02,\n",
       "            1.3537e-01, -1.7328e-01,  1.1433e-01, -8.8019e-02, -3.7573e-02,\n",
       "            8.4512e-02, -1.4856e-04,  1.3228e-01,  5.5725e-02,  6.6391e-02,\n",
       "           -1.5125e-03, -5.5147e-02, -5.7216e-02, -4.7141e-03, -8.0466e-02,\n",
       "            1.0307e-01, -1.4512e-02,  1.1128e-01, -4.6072e-02, -3.1955e-02,\n",
       "            4.2260e-02, -1.9666e-02, -4.4906e-02, -1.2053e-01, -6.9267e-02,\n",
       "           -1.1743e-01,  7.6322e-02,  4.4587e-02, -5.2745e-02, -1.0556e-01,\n",
       "           -6.4171e-02, -5.8896e-02, -5.9366e-02,  1.0184e-01, -1.0912e-01,\n",
       "            6.8502e-02,  5.0533e-02,  4.7168e-03,  2.4710e-02,  7.2754e-02,\n",
       "            5.9127e-02, -2.0807e-02,  5.8041e-02,  7.5584e-02,  1.8707e-01,\n",
       "           -1.2945e-01, -2.7684e-03, -1.1059e-03,  1.4158e-01,  9.6220e-02,\n",
       "            1.6612e-01, -6.4737e-02, -6.1422e-02, -4.2974e-02,  4.3414e-02,\n",
       "            3.5817e-02, -9.5055e-02, -1.0202e-01,  6.3698e-02, -1.3054e-02,\n",
       "           -1.0421e-01, -1.8881e-03,  4.5354e-02,  9.9885e-02, -7.3458e-02,\n",
       "            1.3155e-01, -9.9932e-03,  6.5734e-02,  5.2350e-02,  9.4272e-03,\n",
       "            7.3441e-03,  1.4501e-01,  1.9959e-01,  4.8798e-02, -3.3741e-02,\n",
       "            6.2309e-02, -1.0515e-01,  1.1721e-01,  7.2252e-02,  3.7355e-02,\n",
       "            1.1197e-01, -9.5132e-03, -1.4289e-01]]], grad_fn=<StackBackward0>))"
      ]
     },
     "execution_count": 55,
     "metadata": {},
     "output_type": "execute_result"
    }
   ],
   "source": [
    "next_hidden"
   ]
  },
  {
   "cell_type": "markdown",
   "metadata": {},
   "source": [
    "As you can see the output is a ``<1 x n_categories>`` Tensor, where\n",
    "every item is the likelihood of that category (higher is more likely).\n",
    "\n",
    "\n"
   ]
  },
  {
   "cell_type": "markdown",
   "metadata": {},
   "source": [
    "## Training\n",
    "Preparing for Training\n",
    "----------------------\n",
    "\n",
    "Before going into training we should make a few helper functions. The\n",
    "first is to interpret the output of the network, which we know to be a\n",
    "likelihood of each category. We can use ``Tensor.topk`` to get the index\n",
    "of the greatest value:\n",
    "\n",
    "\n"
   ]
  },
  {
   "cell_type": "code",
   "execution_count": 56,
   "metadata": {},
   "outputs": [
    {
     "name": "stdout",
     "output_type": "stream",
     "text": [
      "('Czech', 0)\n"
     ]
    }
   ],
   "source": [
    "def categoryFromOutput(output):\n",
    "    top_n, top_i = output.topk(1)\n",
    "    category_i = top_i[0].item()\n",
    "    return all_categories[category_i], category_i\n",
    "\n",
    "print(categoryFromOutput(output))"
   ]
  },
  {
   "cell_type": "markdown",
   "metadata": {},
   "source": [
    "We will also want a quick way to get a training example (a name and its\n",
    "language):\n",
    "\n",
    "\n"
   ]
  },
  {
   "cell_type": "code",
   "execution_count": 57,
   "metadata": {},
   "outputs": [
    {
     "name": "stdout",
     "output_type": "stream",
     "text": [
      "category = German / line = Schroeder\n",
      "category = Polish / line = Sowka\n",
      "category = Portuguese / line = Crespo\n",
      "category = Scottish / line = Kelly\n",
      "category = Italian / line = Agresta\n",
      "category = Korean / line = Yun\n",
      "category = Czech / line = Lynsmeier\n",
      "category = German / line = Janz\n",
      "category = Czech / line = Waclauska\n",
      "category = Czech / line = Srda\n"
     ]
    }
   ],
   "source": [
    "import random\n",
    "\n",
    "def randomChoice(l):\n",
    "    return l[random.randint(0, len(l) - 1)]\n",
    "\n",
    "def randomTrainingExample():\n",
    "    category = randomChoice(all_categories)\n",
    "    line = randomChoice(category_lines[category])\n",
    "    category_tensor = torch.tensor([all_categories.index(category)], dtype=torch.long)\n",
    "    line_tensor = lineToTensor(line)\n",
    "    return category, line, category_tensor, line_tensor\n",
    "\n",
    "for i in range(10):\n",
    "    category, line, category_tensor, line_tensor = randomTrainingExample()\n",
    "    print('category =', category, '/ line =', line)"
   ]
  },
  {
   "cell_type": "markdown",
   "metadata": {},
   "source": [
    "### Training the Network\n",
    "\n",
    "Now all it takes to train this network is show it a bunch of examples,\n",
    "have it make guesses, and tell it if it's wrong.\n",
    "\n",
    "For the loss function ``nn.NLLLoss`` is appropriate, since the last\n",
    "layer of the RNN is ``nn.LogSoftmax``.\n",
    "\n",
    "\n"
   ]
  },
  {
   "cell_type": "code",
   "execution_count": 58,
   "metadata": {},
   "outputs": [],
   "source": [
    "criterion = nn.NLLLoss()"
   ]
  },
  {
   "cell_type": "markdown",
   "metadata": {},
   "source": [
    "Each loop of training will:\n",
    "\n",
    "-  Create input and target tensors\n",
    "-  Create a zeroed initial hidden state\n",
    "-  Read each letter in and\n",
    "\n",
    "   -  Keep hidden state for next letter\n",
    "\n",
    "-  Compare final output to target\n",
    "-  Back-propagate\n",
    "-  Return the output and loss\n",
    "\n",
    "\n"
   ]
  },
  {
   "cell_type": "code",
   "execution_count": 59,
   "metadata": {},
   "outputs": [],
   "source": [
    "learning_rate = 0.005 # If you set this too high, it might explode. If too low, it might not learn\n",
    "\n",
    "def train(category_tensor, line_tensor):\n",
    "    hidden = lstm.initHidden()\n",
    "\n",
    "    lstm.zero_grad()\n",
    "\n",
    "    for i in range(line_tensor.size()[0]):\n",
    "        output, hidden = lstm(line_tensor[i], hidden)\n",
    "\n",
    "    loss = criterion(output, category_tensor)\n",
    "    loss.backward()\n",
    "\n",
    "    # Add parameters' gradients to their values, multiplied by learning rate\n",
    "    for p in lstm.parameters():\n",
    "        p.data.add_(p.grad.data, alpha=-learning_rate)\n",
    "\n",
    "    return output, loss.item()"
   ]
  },
  {
   "cell_type": "markdown",
   "metadata": {},
   "source": [
    "Now we just have to run that with a bunch of examples. Since the\n",
    "``train`` function returns both the output and loss we can print its\n",
    "guesses and also keep track of loss for plotting. Since there are 1000s\n",
    "of examples we print only every ``print_every`` examples, and take an\n",
    "average of the loss.\n",
    "\n",
    "\n"
   ]
  },
  {
   "cell_type": "code",
   "execution_count": 60,
   "metadata": {},
   "outputs": [
    {
     "name": "stdout",
     "output_type": "stream",
     "text": [
      "5000 5% (0m 8s) 2.8626 Senft / Polish ✗ (German)\n",
      "10000 10% (0m 16s) 2.8407 Mayuzumi / Portuguese ✗ (Japanese)\n",
      "15000 15% (0m 24s) 2.8327 Nunes / Greek ✗ (Portuguese)\n",
      "20000 20% (0m 32s) 2.9551 Davidson / Italian ✗ (Scottish)\n",
      "25000 25% (0m 40s) 1.8880 La / Vietnamese ✓\n",
      "30000 30% (0m 48s) 2.8135 Cattaneo / Greek ✗ (Italian)\n",
      "35000 35% (0m 56s) 2.8588 Taylor / French ✗ (Scottish)\n",
      "40000 40% (1m 4s) 3.3152 Desjardins / Greek ✗ (French)\n",
      "45000 45% (1m 12s) 3.7226 Gottschalk / Russian ✗ (German)\n",
      "50000 50% (1m 20s) 4.2294 Kurogane / Irish ✗ (Japanese)\n",
      "55000 55% (1m 27s) 1.0168 Suzambo / Japanese ✓\n",
      "60000 60% (1m 35s) 0.2848 Jatkov / Russian ✓\n",
      "65000 65% (1m 43s) 1.5213 Basara / Japanese ✗ (Arabic)\n",
      "70000 70% (1m 51s) 2.3790 Loong / Scottish ✗ (Chinese)\n",
      "75000 75% (1m 59s) 0.6516 Yang / Chinese ✓\n",
      "80000 80% (2m 7s) 0.7415 Schindler / German ✓\n",
      "85000 85% (2m 15s) 1.4106 Pham / Vietnamese ✓\n",
      "90000 90% (2m 23s) 1.1469 Zhong / Chinese ✓\n",
      "95000 95% (2m 31s) 1.1527 Rukhlin / Scottish ✗ (Russian)\n",
      "100000 100% (2m 39s) 0.7901 Funabashi / Japanese ✓\n"
     ]
    }
   ],
   "source": [
    "import time\n",
    "import math\n",
    "\n",
    "n_iters = 100000\n",
    "print_every = 5000\n",
    "plot_every = 1000\n",
    "\n",
    "\n",
    "\n",
    "# Keep track of losses for plotting\n",
    "current_loss = 0\n",
    "all_losses = []\n",
    "\n",
    "def timeSince(since):\n",
    "    now = time.time()\n",
    "    s = now - since\n",
    "    m = math.floor(s / 60)\n",
    "    s -= m * 60\n",
    "    return '%dm %ds' % (m, s)\n",
    "\n",
    "start = time.time()\n",
    "\n",
    "for iter in range(1, n_iters + 1):\n",
    "    category, line, category_tensor, line_tensor = randomTrainingExample()\n",
    "    output, loss = train(category_tensor, line_tensor)\n",
    "    current_loss += loss\n",
    "\n",
    "    # Print ``iter`` number, loss, name and guess\n",
    "    if iter % print_every == 0:\n",
    "        guess, guess_i = categoryFromOutput(output)\n",
    "        correct = '✓' if guess == category else '✗ (%s)' % category\n",
    "        print('%d %d%% (%s) %.4f %s / %s %s' % (iter, iter / n_iters * 100, timeSince(start), loss, line, guess, correct))\n",
    "\n",
    "    # Add current loss avg to list of losses\n",
    "    if iter % plot_every == 0:\n",
    "        all_losses.append(current_loss / plot_every)\n",
    "        current_loss = 0"
   ]
  },
  {
   "cell_type": "markdown",
   "metadata": {},
   "source": [
    "### Plotting the Results\n",
    "\n",
    "Plotting the historical loss from ``all_losses`` shows the network\n",
    "learning:\n",
    "\n",
    "\n"
   ]
  },
  {
   "cell_type": "code",
   "execution_count": 61,
   "metadata": {},
   "outputs": [
    {
     "data": {
      "text/plain": [
       "[<matplotlib.lines.Line2D at 0x167591450>]"
      ]
     },
     "execution_count": 61,
     "metadata": {},
     "output_type": "execute_result"
    },
    {
     "data": {
      "image/png": "[encoded data removed]",
      "text/plain": [
       "<Figure size 640x480 with 1 Axes>"
      ]
     },
     "metadata": {},
     "output_type": "display_data"
    }
   ],
   "source": [
    "import matplotlib.pyplot as plt\n",
    "import matplotlib.ticker as ticker\n",
    "\n",
    "plt.figure()\n",
    "plt.plot(all_losses)"
   ]
  },
  {
   "cell_type": "markdown",
   "metadata": {},
   "source": [
    "## Evaluating the Results\n",
    "\n",
    "To see how well the network performs on different categories, we will\n",
    "create a confusion matrix, indicating for every actual language (rows)\n",
    "which language the network guesses (columns). To calculate the confusion\n",
    "matrix a bunch of samples are run through the network with\n",
    "``evaluate()``, which is the same as ``train()`` minus the backprop.\n",
    "\n",
    "\n"
   ]
  },
  {
   "cell_type": "code",
   "execution_count": 62,
   "metadata": {},
   "outputs": [],
   "source": [
    "from sklearn.metrics import accuracy_score, precision_score, recall_score, f1_score"
   ]
  },
  {
   "cell_type": "code",
   "execution_count": 64,
   "metadata": {},
   "outputs": [
    {
     "name": "stdout",
     "output_type": "stream",
     "text": [
      "Accuracy   : 0.4982\n"
     ]
    },
    {
     "name": "stderr",
     "output_type": "stream",
     "text": [
      "/var/folders/p0/2zsqzc3s6dbb877rzqb4py6w0000gn/T/ipykernel_83539/177910392.py:41: UserWarning: set_ticklabels() should only be used with a fixed number of ticks, i.e. after set_ticks() or using a FixedLocator.\n",
      "  ax.set_xticklabels([''] + all_categories, rotation=90)\n",
      "/var/folders/p0/2zsqzc3s6dbb877rzqb4py6w0000gn/T/ipykernel_83539/177910392.py:42: UserWarning: set_ticklabels() should only be used with a fixed number of ticks, i.e. after set_ticks() or using a FixedLocator.\n",
      "  ax.set_yticklabels([''] + all_categories)\n"
     ]
    },
    {
     "data": {
      "image/png": "[encoded data removed]",
      "text/plain": [
       "<Figure size 640x480 with 2 Axes>"
      ]
     },
     "metadata": {},
     "output_type": "display_data"
    }
   ],
   "source": [
    "# Keep track of correct guesses in a confusion matrix\n",
    "confusion = torch.zeros(n_categories, n_categories)\n",
    "n_confusion = 10000\n",
    "\n",
    "# Just return an output given a line\n",
    "def evaluate(line_tensor):\n",
    "    hidden = lstm.initHidden()\n",
    "\n",
    "    for i in range(line_tensor.size()[0]):\n",
    "        output, hidden = lstm(line_tensor[i], hidden)\n",
    "\n",
    "    return output\n",
    "\n",
    "y_test=[]\n",
    "y_pred=[]\n",
    "\n",
    "# Go through a bunch of examples and record which are correctly guessed\n",
    "for i in range(n_confusion):\n",
    "    category, line, category_tensor, line_tensor = randomTrainingExample()\n",
    "    output = evaluate(line_tensor)\n",
    "    guess, guess_i = categoryFromOutput(output)\n",
    "    y_test.append(category)\n",
    "    y_pred.append(guess)\n",
    "    category_i = all_categories.index(category)\n",
    "    confusion[category_i][guess_i] += 1\n",
    "\n",
    "accuracy = accuracy_score(y_test, y_pred)\n",
    "print(\"Accuracy   :\", accuracy)\n",
    "    \n",
    "# Normalize by dividing every row by its sum\n",
    "for i in range(n_categories):\n",
    "    confusion[i] = confusion[i] / confusion[i].sum()\n",
    "\n",
    "# Set up plot\n",
    "fig = plt.figure()\n",
    "ax = fig.add_subplot(111)\n",
    "cax = ax.matshow(confusion.numpy())\n",
    "fig.colorbar(cax)\n",
    "\n",
    "# Set up axes\n",
    "ax.set_xticklabels([''] + all_categories, rotation=90)\n",
    "ax.set_yticklabels([''] + all_categories)\n",
    "\n",
    "# Force label at every tick\n",
    "ax.xaxis.set_major_locator(ticker.MultipleLocator(1))\n",
    "ax.yaxis.set_major_locator(ticker.MultipleLocator(1))\n",
    "\n",
    "# sphinx_gallery_thumbnail_number = 2\n",
    "plt.show()"
   ]
  },
  {
   "cell_type": "code",
   "execution_count": 65,
   "metadata": {},
   "outputs": [
    {
     "data": {
      "text/plain": [
       "tensor([0.1978, 0.4414, 0.6291, 0.7832, 0.5576, 0.8358, 0.6730, 0.4529, 0.7185,\n",
       "        0.0796, 0.5342, 0.8318, 0.4628, 0.4770, 0.2051, 0.2350, 0.2651, 0.5921])"
      ]
     },
     "execution_count": 65,
     "metadata": {},
     "output_type": "execute_result"
    }
   ],
   "source": [
    "confusion.diagonal()/confusion.sum(axis=1)"
   ]
  },
  {
   "cell_type": "code",
   "execution_count": 66,
   "metadata": {},
   "outputs": [
    {
     "data": {
      "text/plain": [
       "tensor(8.9718)"
      ]
     },
     "execution_count": 66,
     "metadata": {},
     "output_type": "execute_result"
    }
   ],
   "source": [
    "sum(confusion.diagonal()/confusion.sum(axis=1))"
   ]
  },
  {
   "cell_type": "markdown",
   "metadata": {},
   "source": [
    "You can pick out bright spots off the main axis that show which\n",
    "languages it guesses incorrectly, e.g. Chinese for Korean, and Spanish\n",
    "for Italian. It seems to do very well with Greek, and very poorly with\n",
    "English (perhaps because of overlap with other languages).\n",
    "\n",
    "\n"
   ]
  },
  {
   "cell_type": "markdown",
   "metadata": {},
   "source": [
    "### Running on User Input\n",
    "\n",
    "\n"
   ]
  },
  {
   "cell_type": "code",
   "execution_count": 67,
   "metadata": {},
   "outputs": [
    {
     "name": "stdout",
     "output_type": "stream",
     "text": [
      "\n",
      "> Zhen\n",
      "(-0.93) Chinese\n",
      "(-1.11) Vietnamese\n",
      "(-1.68) Korean\n",
      "\n",
      "> Jackson\n",
      "(-0.84) Scottish\n",
      "(-1.78) English\n",
      "(-2.34) Polish\n",
      "\n",
      "> Satoshi\n",
      "(-0.27) Japanese\n",
      "(-1.81) Arabic\n",
      "(-3.17) Italian\n"
     ]
    }
   ],
   "source": [
    "def predict(input_line, n_predictions=3):\n",
    "    print('\\n> %s' % input_line)\n",
    "    with torch.no_grad():\n",
    "        output = evaluate(lineToTensor(input_line))\n",
    "\n",
    "        # Get top N categories\n",
    "        topv, topi = output.topk(n_predictions, 1, True)\n",
    "        predictions = []\n",
    "\n",
    "        for i in range(n_predictions):\n",
    "            value = topv[0][i].item()\n",
    "            category_index = topi[0][i].item()\n",
    "            print('(%.2f) %s' % (value, all_categories[category_index]))\n",
    "            predictions.append([value, all_categories[category_index]])\n",
    "\n",
    "predict('Zhen')\n",
    "predict('Jackson')\n",
    "predict('Satoshi')"
   ]
  },
  {
   "cell_type": "markdown",
   "metadata": {},
   "source": [
    "The final versions of the scripts [in the Practical PyTorch\n",
    "repo](https://github.com/spro/practical-pytorch/tree/master/char-rnn-classification)_\n",
    "split the above code into a few files:\n",
    "\n",
    "-  ``data.py`` (loads files)\n",
    "-  ``model.py`` (defines the RNN)\n",
    "-  ``train.py`` (runs training)\n",
    "-  ``predict.py`` (runs ``predict()`` with command line arguments)\n",
    "-  ``server.py`` (serve prediction as a JSON API with ``bottle.py``)\n",
    "\n",
    "Run ``train.py`` to train and save the network.\n",
    "\n",
    "Run ``predict.py`` with a name to view predictions:\n",
    "\n",
    "::\n",
    "\n",
    "    $ python predict.py Hazaki\n",
    "    (-0.42) Japanese\n",
    "    (-1.39) Polish\n",
    "    (-3.51) Czech\n",
    "\n",
    "Run ``server.py`` and visit http://localhost:5533/Yourname to get JSON\n",
    "output of predictions.\n",
    "\n",
    "\n"
   ]
  },
  {
   "cell_type": "markdown",
   "metadata": {},
   "source": [
    "## Exercises\n",
    "\n",
    "-  Try with a different dataset of line -> category, for example:\n",
    "\n",
    "   -  Any word -> language\n",
    "   -  First name -> gender\n",
    "   -  Character name -> writer\n",
    "   -  Page title -> blog or subreddit\n",
    "\n",
    "-  Get better results with a bigger and/or better shaped network\n",
    "\n",
    "   -  Add more linear layers\n",
    "   -  Try the ``nn.LSTM`` and ``nn.GRU`` layers\n",
    "   -  Combine multiple of these RNNs as a higher level network\n",
    "\n",
    "\n"
   ]
  }
 ],
 "metadata": {
  "kernelspec": {
   "display_name": "Python 3 (ipykernel)",
   "language": "python",
   "name": "python3"
  },
  "language_info": {
   "codemirror_mode": {
    "name": "ipython",
    "version": 3
   },
   "file_extension": ".py",
   "mimetype": "text/x-python",
   "name": "python",
   "nbconvert_exporter": "python",
   "pygments_lexer": "ipython3",
   "version": "3.11.6"
  }
 },
 "nbformat": 4,
 "nbformat_minor": 1
}
