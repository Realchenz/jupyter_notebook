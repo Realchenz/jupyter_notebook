{
 "cells": [
  {
   "cell_type": "code",
   "execution_count": 11,
   "id": "4ef857fc",
   "metadata": {},
   "outputs": [],
   "source": [
    "%matplotlib inline\n",
    "\n",
    "import matplotlib\n",
    "import numpy as np\n",
    "import matplotlib.pyplot as plt\n",
    "from scipy.stats import uniform\n",
    "from scipy.stats import norm\n",
    "from scipy.stats import binom\n",
    "import seaborn as sns\n",
    "import pandas as pd\n",
    "from sklearn.utils import shuffle\n",
    "import os"
   ]
  },
  {
   "cell_type": "code",
   "execution_count": 12,
   "id": "da5c7df7",
   "metadata": {},
   "outputs": [
    {
     "name": "stdout",
     "output_type": "stream",
     "text": [
      "/Users/arthur/work/teaching/math125\n"
     ]
    }
   ],
   "source": [
    "print(os.getcwd())\n",
    "cwd=os.getcwd()"
   ]
  },
  {
   "cell_type": "code",
   "execution_count": 13,
   "id": "6de90042",
   "metadata": {},
   "outputs": [],
   "source": [
    "#https://www.kaggle.com/c/titanic/data"
   ]
  },
  {
   "cell_type": "code",
   "execution_count": 14,
   "id": "5ae07ced",
   "metadata": {},
   "outputs": [
    {
     "name": "stdout",
     "output_type": "stream",
     "text": [
      "(891, 12)\n"
     ]
    },
    {
     "data": {
      "text/html": [
       "<div>\n",
       "<style scoped>\n",
       "    .dataframe tbody tr th:only-of-type {\n",
       "        vertical-align: middle;\n",
       "    }\n",
       "\n",
       "    .dataframe tbody tr th {\n",
       "        vertical-align: top;\n",
       "    }\n",
       "\n",
       "    .dataframe thead th {\n",
       "        text-align: right;\n",
       "    }\n",
       "</style>\n",
       "<table border=\"1\" class=\"dataframe\">\n",
       "  <thead>\n",
       "    <tr style=\"text-align: right;\">\n",
       "      <th></th>\n",
       "      <th>PassengerId</th>\n",
       "      <th>Survived</th>\n",
       "      <th>Pclass</th>\n",
       "      <th>Name</th>\n",
       "      <th>Sex</th>\n",
       "      <th>Age</th>\n",
       "      <th>SibSp</th>\n",
       "      <th>Parch</th>\n",
       "      <th>Ticket</th>\n",
       "      <th>Fare</th>\n",
       "      <th>Cabin</th>\n",
       "      <th>Embarked</th>\n",
       "    </tr>\n",
       "  </thead>\n",
       "  <tbody>\n",
       "    <tr>\n",
       "      <th>0</th>\n",
       "      <td>1</td>\n",
       "      <td>0</td>\n",
       "      <td>3</td>\n",
       "      <td>Braund, Mr. Owen Harris</td>\n",
       "      <td>male</td>\n",
       "      <td>22.0</td>\n",
       "      <td>1</td>\n",
       "      <td>0</td>\n",
       "      <td>A/5 21171</td>\n",
       "      <td>7.2500</td>\n",
       "      <td>NaN</td>\n",
       "      <td>S</td>\n",
       "    </tr>\n",
       "    <tr>\n",
       "      <th>1</th>\n",
       "      <td>2</td>\n",
       "      <td>1</td>\n",
       "      <td>1</td>\n",
       "      <td>Cumings, Mrs. John Bradley (Florence Briggs Th...</td>\n",
       "      <td>female</td>\n",
       "      <td>38.0</td>\n",
       "      <td>1</td>\n",
       "      <td>0</td>\n",
       "      <td>PC 17599</td>\n",
       "      <td>71.2833</td>\n",
       "      <td>C85</td>\n",
       "      <td>C</td>\n",
       "    </tr>\n",
       "    <tr>\n",
       "      <th>2</th>\n",
       "      <td>3</td>\n",
       "      <td>1</td>\n",
       "      <td>3</td>\n",
       "      <td>Heikkinen, Miss. Laina</td>\n",
       "      <td>female</td>\n",
       "      <td>26.0</td>\n",
       "      <td>0</td>\n",
       "      <td>0</td>\n",
       "      <td>STON/O2. 3101282</td>\n",
       "      <td>7.9250</td>\n",
       "      <td>NaN</td>\n",
       "      <td>S</td>\n",
       "    </tr>\n",
       "    <tr>\n",
       "      <th>3</th>\n",
       "      <td>4</td>\n",
       "      <td>1</td>\n",
       "      <td>1</td>\n",
       "      <td>Futrelle, Mrs. Jacques Heath (Lily May Peel)</td>\n",
       "      <td>female</td>\n",
       "      <td>35.0</td>\n",
       "      <td>1</td>\n",
       "      <td>0</td>\n",
       "      <td>113803</td>\n",
       "      <td>53.1000</td>\n",
       "      <td>C123</td>\n",
       "      <td>S</td>\n",
       "    </tr>\n",
       "    <tr>\n",
       "      <th>4</th>\n",
       "      <td>5</td>\n",
       "      <td>0</td>\n",
       "      <td>3</td>\n",
       "      <td>Allen, Mr. William Henry</td>\n",
       "      <td>male</td>\n",
       "      <td>35.0</td>\n",
       "      <td>0</td>\n",
       "      <td>0</td>\n",
       "      <td>373450</td>\n",
       "      <td>8.0500</td>\n",
       "      <td>NaN</td>\n",
       "      <td>S</td>\n",
       "    </tr>\n",
       "  </tbody>\n",
       "</table>\n",
       "</div>"
      ],
      "text/plain": [
       "   PassengerId  Survived  Pclass  \\\n",
       "0            1         0       3   \n",
       "1            2         1       1   \n",
       "2            3         1       3   \n",
       "3            4         1       1   \n",
       "4            5         0       3   \n",
       "\n",
       "                                                Name     Sex   Age  SibSp  \\\n",
       "0                            Braund, Mr. Owen Harris    male  22.0      1   \n",
       "1  Cumings, Mrs. John Bradley (Florence Briggs Th...  female  38.0      1   \n",
       "2                             Heikkinen, Miss. Laina  female  26.0      0   \n",
       "3       Futrelle, Mrs. Jacques Heath (Lily May Peel)  female  35.0      1   \n",
       "4                           Allen, Mr. William Henry    male  35.0      0   \n",
       "\n",
       "   Parch            Ticket     Fare Cabin Embarked  \n",
       "0      0         A/5 21171   7.2500   NaN        S  \n",
       "1      0          PC 17599  71.2833   C85        C  \n",
       "2      0  STON/O2. 3101282   7.9250   NaN        S  \n",
       "3      0            113803  53.1000  C123        S  \n",
       "4      0            373450   8.0500   NaN        S  "
      ]
     },
     "execution_count": 14,
     "metadata": {},
     "output_type": "execute_result"
    }
   ],
   "source": [
    "train_data = pd.read_csv(cwd+\"/titanic/train.csv\")\n",
    "test_data=pd.read_csv(cwd+\"/titanic/test.csv\")\n",
    "print(train_data.shape)\n",
    "train_data.head()\n"
   ]
  },
  {
   "cell_type": "code",
   "execution_count": null,
   "id": "7e702d06",
   "metadata": {},
   "outputs": [],
   "source": []
  },
  {
   "cell_type": "code",
   "execution_count": 5,
   "id": "b727ca9b",
   "metadata": {},
   "outputs": [
    {
     "data": {
      "text/html": [
       "<div>\n",
       "<style scoped>\n",
       "    .dataframe tbody tr th:only-of-type {\n",
       "        vertical-align: middle;\n",
       "    }\n",
       "\n",
       "    .dataframe tbody tr th {\n",
       "        vertical-align: top;\n",
       "    }\n",
       "\n",
       "    .dataframe thead th {\n",
       "        text-align: right;\n",
       "    }\n",
       "</style>\n",
       "<table border=\"1\" class=\"dataframe\">\n",
       "  <thead>\n",
       "    <tr style=\"text-align: right;\">\n",
       "      <th></th>\n",
       "      <th>PassengerId</th>\n",
       "      <th>Pclass</th>\n",
       "      <th>Name</th>\n",
       "      <th>Sex</th>\n",
       "      <th>Age</th>\n",
       "      <th>SibSp</th>\n",
       "      <th>Parch</th>\n",
       "      <th>Ticket</th>\n",
       "      <th>Fare</th>\n",
       "      <th>Cabin</th>\n",
       "      <th>Embarked</th>\n",
       "    </tr>\n",
       "  </thead>\n",
       "  <tbody>\n",
       "    <tr>\n",
       "      <th>0</th>\n",
       "      <td>892</td>\n",
       "      <td>3</td>\n",
       "      <td>Kelly, Mr. James</td>\n",
       "      <td>male</td>\n",
       "      <td>34.5</td>\n",
       "      <td>0</td>\n",
       "      <td>0</td>\n",
       "      <td>330911</td>\n",
       "      <td>7.8292</td>\n",
       "      <td>NaN</td>\n",
       "      <td>Q</td>\n",
       "    </tr>\n",
       "    <tr>\n",
       "      <th>1</th>\n",
       "      <td>893</td>\n",
       "      <td>3</td>\n",
       "      <td>Wilkes, Mrs. James (Ellen Needs)</td>\n",
       "      <td>female</td>\n",
       "      <td>47.0</td>\n",
       "      <td>1</td>\n",
       "      <td>0</td>\n",
       "      <td>363272</td>\n",
       "      <td>7.0000</td>\n",
       "      <td>NaN</td>\n",
       "      <td>S</td>\n",
       "    </tr>\n",
       "    <tr>\n",
       "      <th>2</th>\n",
       "      <td>894</td>\n",
       "      <td>2</td>\n",
       "      <td>Myles, Mr. Thomas Francis</td>\n",
       "      <td>male</td>\n",
       "      <td>62.0</td>\n",
       "      <td>0</td>\n",
       "      <td>0</td>\n",
       "      <td>240276</td>\n",
       "      <td>9.6875</td>\n",
       "      <td>NaN</td>\n",
       "      <td>Q</td>\n",
       "    </tr>\n",
       "    <tr>\n",
       "      <th>3</th>\n",
       "      <td>895</td>\n",
       "      <td>3</td>\n",
       "      <td>Wirz, Mr. Albert</td>\n",
       "      <td>male</td>\n",
       "      <td>27.0</td>\n",
       "      <td>0</td>\n",
       "      <td>0</td>\n",
       "      <td>315154</td>\n",
       "      <td>8.6625</td>\n",
       "      <td>NaN</td>\n",
       "      <td>S</td>\n",
       "    </tr>\n",
       "    <tr>\n",
       "      <th>4</th>\n",
       "      <td>896</td>\n",
       "      <td>3</td>\n",
       "      <td>Hirvonen, Mrs. Alexander (Helga E Lindqvist)</td>\n",
       "      <td>female</td>\n",
       "      <td>22.0</td>\n",
       "      <td>1</td>\n",
       "      <td>1</td>\n",
       "      <td>3101298</td>\n",
       "      <td>12.2875</td>\n",
       "      <td>NaN</td>\n",
       "      <td>S</td>\n",
       "    </tr>\n",
       "  </tbody>\n",
       "</table>\n",
       "</div>"
      ],
      "text/plain": [
       "   PassengerId  Pclass                                          Name     Sex  \\\n",
       "0          892       3                              Kelly, Mr. James    male   \n",
       "1          893       3              Wilkes, Mrs. James (Ellen Needs)  female   \n",
       "2          894       2                     Myles, Mr. Thomas Francis    male   \n",
       "3          895       3                              Wirz, Mr. Albert    male   \n",
       "4          896       3  Hirvonen, Mrs. Alexander (Helga E Lindqvist)  female   \n",
       "\n",
       "    Age  SibSp  Parch   Ticket     Fare Cabin Embarked  \n",
       "0  34.5      0      0   330911   7.8292   NaN        Q  \n",
       "1  47.0      1      0   363272   7.0000   NaN        S  \n",
       "2  62.0      0      0   240276   9.6875   NaN        Q  \n",
       "3  27.0      0      0   315154   8.6625   NaN        S  \n",
       "4  22.0      1      1  3101298  12.2875   NaN        S  "
      ]
     },
     "execution_count": 5,
     "metadata": {},
     "output_type": "execute_result"
    }
   ],
   "source": [
    "test_data.head()"
   ]
  },
  {
   "cell_type": "code",
   "execution_count": 16,
   "id": "41e887d0",
   "metadata": {},
   "outputs": [],
   "source": [
    "y = train_data[\"Survived\"]\n",
    "\n",
    "features = [\"Pclass\", \"Sex\", \"SibSp\", \"Parch\"]\n",
    "X = pd.get_dummies(train_data[features]).to_numpy()\n",
    "#X_test = pd.get_dummies(test_data[features])"
   ]
  },
  {
   "cell_type": "code",
   "execution_count": 17,
   "id": "ab03c209",
   "metadata": {},
   "outputs": [],
   "source": [
    "from sklearn.metrics import accuracy_score, confusion_matrix\n",
    "from sklearn.linear_model import LogisticRegression\n",
    "from sklearn.model_selection import train_test_split\n",
    "X_train,X_test,y_train,y_test = train_test_split(X,y,test_size=0.2, random_state=44)"
   ]
  },
  {
   "cell_type": "code",
   "execution_count": null,
   "id": "b992d95f",
   "metadata": {},
   "outputs": [],
   "source": []
  },
  {
   "cell_type": "code",
   "execution_count": 18,
   "id": "cc7b4459",
   "metadata": {},
   "outputs": [
    {
     "data": {
      "text/plain": [
       "(712, 5)"
      ]
     },
     "execution_count": 18,
     "metadata": {},
     "output_type": "execute_result"
    }
   ],
   "source": [
    "X_train.shape"
   ]
  },
  {
   "cell_type": "code",
   "execution_count": null,
   "id": "e669fc49",
   "metadata": {},
   "outputs": [],
   "source": []
  },
  {
   "cell_type": "code",
   "execution_count": 8,
   "id": "1b70a6a6",
   "metadata": {},
   "outputs": [
    {
     "name": "stdout",
     "output_type": "stream",
     "text": [
      "[[88 18]\n",
      " [29 44]]\n"
     ]
    },
    {
     "data": {
      "text/plain": [
       "0.7374301675977654"
      ]
     },
     "execution_count": 8,
     "metadata": {},
     "output_type": "execute_result"
    }
   ],
   "source": [
    "logreg = LogisticRegression()\n",
    "logreg = logreg.fit(X_train,y_train)\n",
    "# Predicting the values\n",
    "y_pred=logreg.predict(X_test)\n",
    "\n",
    "from sklearn.metrics import confusion_matrix, accuracy_score\n",
    "cm = confusion_matrix(y_test, y_pred)\n",
    "print(cm)\n",
    "accuracy_score(y_test, y_pred)\n"
   ]
  },
  {
   "cell_type": "code",
   "execution_count": null,
   "id": "1db43ba3",
   "metadata": {},
   "outputs": [],
   "source": []
  },
  {
   "cell_type": "code",
   "execution_count": null,
   "id": "29aab2d1",
   "metadata": {},
   "outputs": [],
   "source": []
  },
  {
   "cell_type": "code",
   "execution_count": 19,
   "id": "04bf8605",
   "metadata": {},
   "outputs": [],
   "source": [
    "class lr:\n",
    "    def __init__(self, lr=1.0, itrs=100):\n",
    "        self.lr=lr\n",
    "        self.itrs=itrs\n",
    "    def h(self, datx):\n",
    "        f=datx@self.w\n",
    "        return 1/(1+np.exp(-f))\n",
    "    def cost(self, X, Y):\n",
    "        H=self.h(X)\n",
    "        m=len(Y)\n",
    "        cost = np.transpose(-Y)@np.log(H) - np.transpose(1-Y)@np.log(1-H) \n",
    "        cost = (1/m)*cost\n",
    "        return cost\n",
    "    def costgrad(self, X,Y):\n",
    "        H=self.h(X)\n",
    "        m=len(Y)\n",
    "        dev = np.transpose(X)@(H - Y)\n",
    "        dev = (1/m)*dev\n",
    "        return dev\n",
    "    def fit(self, X,Y):\n",
    "        m,n=X.shape\n",
    "        self.w=np.ones(n)\n",
    "        costs=[]\n",
    "        for itr in range(self.itrs):\n",
    "            self.w=self.w-self.lr*self.costgrad(X,Y)\n",
    "            cos=self.cost(X,Y)\n",
    "            costs.append(cos)\n",
    "            print(cos)\n",
    "    def predict(self, xtest):\n",
    "        p=self.h(xtest)\n",
    "        return 1*(p>0.5)\n",
    "    \n",
    "        "
   ]
  },
  {
   "cell_type": "code",
   "execution_count": 20,
   "id": "18d5bf70",
   "metadata": {},
   "outputs": [
    {
     "name": "stdout",
     "output_type": "stream",
     "text": [
      "0.6904199501886081\n",
      "0.6010898806639552\n",
      "0.5663783616039508\n",
      "0.5405465346030919\n",
      "0.521400500218295\n",
      "0.5074809450902968\n",
      "0.4972431983106148\n",
      "0.48948024446360366\n",
      "0.48340099801504505\n",
      "0.47851379158839774\n",
      "0.4745074009862686\n",
      "0.47117544052786053\n",
      "0.46837394651218855\n",
      "0.46599794835809566\n",
      "0.46396816140265673\n",
      "0.4622230766888266\n",
      "0.4607140129860238\n",
      "0.459401863433845\n",
      "0.45825485765232105\n",
      "0.457246961663564\n",
      "0.45635669680343777\n",
      "0.4555662453210792\n",
      "0.4548607592352951\n",
      "0.4542278176846382\n",
      "0.453656995478437\n",
      "0.45313951660994295\n",
      "0.45266797374238293\n",
      "0.45223609959455163\n",
      "0.45183857958775375\n",
      "0.45147089758085046\n",
      "0.45112920832966186\n",
      "0.45081023166123946\n",
      "0.45051116438361977\n",
      "0.4502296067458441\n",
      "0.4499635008822602\n",
      "0.44971107916250164\n",
      "0.44947082075523204\n",
      "0.4492414150226149\n",
      "0.44902173061064116\n",
      "0.4488107893008724\n",
      "0.44860774385174257\n",
      "0.4484118591900057\n",
      "0.4482224964211824\n",
      "0.4480390992166811\n",
      "0.4478611822083496\n",
      "0.44768832108152334\n",
      "0.4475201441075471\n",
      "0.44735632489814897\n",
      "0.44719657619847814\n",
      "0.447040644564322\n",
      "0.4468883057929942\n",
      "0.44673936099745687\n",
      "0.44659363323008083\n",
      "0.4464509645765943\n",
      "0.4463112136526883\n",
      "0.44617425344579614\n",
      "0.4460399694530483\n",
      "0.4459082580736036\n",
      "0.4457790252196283\n",
      "0.4456521851153781\n",
      "0.4455276592582241\n",
      "0.44540537551920306\n",
      "0.445285267363861\n",
      "0.4451672731768752\n",
      "0.44505133567626315\n",
      "0.44493740140497423\n",
      "0.4448254202893552\n",
      "0.4447153452554447\n",
      "0.4446071318952939\n",
      "0.4445007381765879\n",
      "0.4443961241897627\n",
      "0.44429325192760566\n",
      "0.44419208509300695\n",
      "0.44409258893111975\n",
      "0.4439947300826944\n",
      "0.44389847645577973\n",
      "0.44380379711337414\n",
      "0.44371066217492305\n",
      "0.4436190427298462\n",
      "0.4435289107615188\n",
      "0.4434402390803411\n",
      "0.4433530012647122\n",
      "0.4432671716088818\n",
      "0.4431827250767869\n",
      "0.4430996372611034\n",
      "0.4430178843468382\n",
      "0.4429374430788812\n",
      "0.44285829073301114\n",
      "0.442780405089914\n",
      "0.4427037644118339\n",
      "0.4426283474215243\n",
      "0.44255413328321047\n",
      "0.4424811015853125\n",
      "0.44240923232471174\n",
      "0.4423385058923701\n",
      "0.4422689030601385\n",
      "0.4422004049686073\n",
      "0.4421329931158809\n",
      "0.4420666493471605\n",
      "0.44200135584504313\n",
      "[[86 20]\n",
      " [27 46]]\n"
     ]
    },
    {
     "data": {
      "text/plain": [
       "0.7374301675977654"
      ]
     },
     "execution_count": 20,
     "metadata": {},
     "output_type": "execute_result"
    }
   ],
   "source": [
    "lrm=lr()\n",
    "lrm.fit(X_train,y_train)\n",
    "y_pred2=lrm.predict(X_test)\n",
    "cm = confusion_matrix(y_test, y_pred2)\n",
    "print(cm)\n",
    "accuracy_score(y_test, y_pred2)\n"
   ]
  },
  {
   "cell_type": "code",
   "execution_count": null,
   "id": "482a7887",
   "metadata": {},
   "outputs": [],
   "source": []
  },
  {
   "cell_type": "code",
   "execution_count": null,
   "id": "a1562d01",
   "metadata": {},
   "outputs": [],
   "source": []
  },
  {
   "cell_type": "code",
   "execution_count": 273,
   "id": "c0de3c86",
   "metadata": {},
   "outputs": [],
   "source": [
    "## multinomial Logistic regression: first order gradient implementation\n",
    "class mlr:\n",
    "    def __init__(self, lr=1, itrs=100):\n",
    "        self.lr=lr\n",
    "        self.itrs=itrs\n",
    "    def h(self, datx):\n",
    "        ## return the probability for each class, each row per sample\n",
    "        A=datx@self.w.transpose() \n",
    "        ## (N,D)x(DxC)=>shape of (NxC), \n",
    "        ## next apply softmax function \n",
    "        N,D=A.shape\n",
    "        P=np.zeros_like(A)\n",
    "        for i in range(N):\n",
    "            lse=self.lse(A[i,:])\n",
    "            P[i,:]=np.array([np.exp(a-lse) for a in A[i,:]])\n",
    "        return P\n",
    "            \n",
    "    def cost(self, X, Y):\n",
    "        P=self.h(X)\n",
    "        totcost=0\n",
    "        for i in range(self.N):\n",
    "            yvec=Y[i,:]\n",
    "            pvec=P[i,:]\n",
    "            cost = self.ce(yvec,pvec)\n",
    "            totcost+=cost\n",
    "        return (1.0/self.N)*totcost\n",
    "        \n",
    "    def costgrad(self, X,Y):\n",
    "        P=self.h(X)\n",
    "        print(f\"shape of P :{P.shape}\")\n",
    "        gw=np.zeros((self.D, self.C))\n",
    "        for i in range(self.N):\n",
    "            xi=np.reshape(X[i,:],(-1,1))\n",
    "            dif=P[i,:]-Y[i,:]\n",
    "            dif2=np.reshape(dif,(-1,1))\n",
    "            res=np.matmul(xi,dif2.transpose())\n",
    "            gw+=res\n",
    "        return (1/self.N)*gw\n",
    "        \n",
    "    def fit(self, X,Y):\n",
    "        self.N,self.D=X.shape\n",
    "        ones=np.ones((self.N,1))\n",
    "        X2=np.hstack((X,ones))\n",
    "        # we assume X did not prepend 1's to the first column \n",
    "        self.D=self.D+1 \n",
    "        self.C=len(list(set(Y)))\n",
    "        ## also need to transform Y to 2d array\n",
    "        Y2=np.zeros((self.N,self.C))\n",
    "        for i in range(self.N):\n",
    "            Y2[i,Y[i]]=1\n",
    "        print(f\"input data: size={self.N}, dim={self.D}\")\n",
    "        print(f\"input Y data: # of classes={self.C}\")\n",
    "        ## initialize weight matrix\n",
    "        self.w=np.zeros((self.C,self.D))\n",
    "        gw=self.costgrad(X2,Y2)\n",
    "        print(f\"gw shape:{gw.shape}\")\n",
    "        ## update\n",
    "        costs=[]\n",
    "        for itr in range(self.itrs):\n",
    "            for c in range(self.C):\n",
    "                self.w[c,:]=self.w[c,:]-self.lr*gw[:,c]\n",
    "            cost=self.cost(X2,Y2)\n",
    "            if itr>1 and cost>costs[-1]:\n",
    "                break\n",
    "            costs.append(cost)\n",
    "        print(\"costs:\")\n",
    "        print(costs)\n",
    "            \n",
    "    def predict(self, xtest):\n",
    "        N,D=xtest.shape\n",
    "        ones=np.ones((N,1))\n",
    "        Xnew=np.hstack((xtest,ones))\n",
    "        P=self.h(Xnew)\n",
    "        ## for each row, let the max column be 1\n",
    "        #preds = np.zeros_like(P)\n",
    "        #preds[np.arange(N), preds.argmax(1)] = 1\n",
    "        preds=P.argmax(1) \n",
    "        print(f\"shape of preds:{preds.shape}\")\n",
    "        return preds\n",
    "    \n",
    "    def lse(self, V):\n",
    "        ## V is a vector of dim C, apply log-sum-exp to V, return the scalar result\n",
    "        res=np.log(np.exp(V).sum())\n",
    "        return res\n",
    "    \n",
    "    def ce(self,u,v):\n",
    "        ## cross entropy\n",
    "        eps=0.001\n",
    "        v+=eps\n",
    "        res=-np.dot(u,np.log(v))\n",
    "        return res\n",
    "        "
   ]
  },
  {
   "cell_type": "code",
   "execution_count": null,
   "id": "df0f503b",
   "metadata": {},
   "outputs": [],
   "source": []
  },
  {
   "cell_type": "code",
   "execution_count": null,
   "id": "8f3b82ee",
   "metadata": {},
   "outputs": [],
   "source": []
  },
  {
   "cell_type": "code",
   "execution_count": 282,
   "id": "2a6f40e8",
   "metadata": {},
   "outputs": [],
   "source": [
    "## multinomial Logistic regression: 2nd order gradient+hessian implementation\n",
    "class mlr_hess:\n",
    "    def __init__(self, lr=0.1, itrs=100):\n",
    "        self.lr=lr\n",
    "        self.itrs=itrs\n",
    "    def h(self, datx):\n",
    "        ## return the probability for each class, each row per sample\n",
    "        A=datx@self.w.transpose() \n",
    "        ## (N,D)x(DxC)=>shape of (NxC), \n",
    "        ## next apply softmax function \n",
    "        N,D=A.shape\n",
    "        P=np.zeros_like(A)\n",
    "        for i in range(N):\n",
    "            lse=self.lse(A[i,:])\n",
    "            P[i,:]=np.array([np.exp(a-lse) for a in A[i,:]])\n",
    "        return P\n",
    "            \n",
    "    def cost(self, X, Y):\n",
    "        P=self.h(X)\n",
    "        totcost=0\n",
    "        for i in range(self.N):\n",
    "            yvec=Y[i,:]\n",
    "            pvec=P[i,:]\n",
    "            cost = self.ce(yvec,pvec)\n",
    "            totcost+=cost\n",
    "        return (1.0/self.N)*totcost\n",
    "        \n",
    "    def costgrad(self, X,Y):\n",
    "        P=self.h(X)\n",
    "        print(f\"shape of P :{P.shape}\")\n",
    "        gw=np.zeros((self.D, self.C))\n",
    "        for i in range(self.N):\n",
    "            xi=np.reshape(X[i,:],(-1,1))\n",
    "            dif=P[i,:]-Y[i,:]\n",
    "            dif2=np.reshape(dif,(-1,1))\n",
    "            res=np.matmul(xi,dif2.transpose())\n",
    "            gw+=res\n",
    "        gw= (1/self.N)*gw\n",
    "        return [gw,P]\n",
    "        \n",
    "    def fit(self, X,Y):\n",
    "        self.N,self.D=X.shape\n",
    "        ones=np.ones((self.N,1))\n",
    "        X2=np.hstack((X,ones))\n",
    "        # we assume X did not prepend 1's to the first column \n",
    "        self.D=self.D+1 \n",
    "        self.C=len(list(set(Y)))\n",
    "        ## also need to transform Y to 2d array\n",
    "        Y2=np.zeros((self.N,self.C))\n",
    "        for i in range(self.N):\n",
    "            Y2[i,Y[i]]=1\n",
    "        print(f\"input data: size={self.N}, dim={self.D}\")\n",
    "        print(f\"input Y data: # of classes={self.C}\")\n",
    "        ## initialize weight matrix\n",
    "        self.w=np.zeros((self.C,self.D))\n",
    "        gw,P=self.costgrad(X2,Y2)\n",
    "        print(f\"gw shape:{gw.shape}\")\n",
    "        \n",
    "        ## update\n",
    "        costs=[]\n",
    "        for itr in range(self.itrs):\n",
    "            for c in range(self.C):\n",
    "                #hessian\n",
    "                H=np.zeros((self.D,self.D))\n",
    "                for i in range(self.N):\n",
    "                    xi=np.reshape(X2[i,:],(self.D,-1))\n",
    "                    xx=np.matmul(xi,xi.transpose())\n",
    "                    H+=P[i,c]*xx\n",
    "                H=np.linalg.inv((1.0/self.N)*H)\n",
    "                self.w[c,:]=self.w[c,:]-self.lr*np.matmul(H,gw[:,c])\n",
    "            cost=self.cost(X2,Y2)\n",
    "            if itr>1 and cost>costs[-1]:\n",
    "                break\n",
    "            costs.append(cost)\n",
    "        print(\"costs:\")\n",
    "        print(costs)\n",
    "            \n",
    "    def predict(self, xtest):\n",
    "        N,D=xtest.shape\n",
    "        ones=np.ones((N,1))\n",
    "        Xnew=np.hstack((xtest,ones))\n",
    "        P=self.h(Xnew)\n",
    "        ## for each row, let the max column be 1\n",
    "        #preds = np.zeros_like(P)\n",
    "        #preds[np.arange(N), preds.argmax(1)] = 1\n",
    "        preds=P.argmax(1) \n",
    "        print(f\"shape of preds:{preds.shape}\")\n",
    "        return preds\n",
    "    \n",
    "    def lse(self, V):\n",
    "        ## V is a vector of dim C, apply log-sum-exp to V, return the scalar result\n",
    "        res=np.log(np.exp(V).sum())\n",
    "        return res\n",
    "    \n",
    "    def ce(self,u,v):\n",
    "        ## cross entropy\n",
    "        eps=0.001\n",
    "        v+=eps\n",
    "        res=-np.dot(u,np.log(v))\n",
    "        return res\n",
    "        "
   ]
  },
  {
   "cell_type": "code",
   "execution_count": null,
   "id": "704bdb94",
   "metadata": {},
   "outputs": [],
   "source": []
  },
  {
   "cell_type": "code",
   "execution_count": null,
   "id": "5b68ac6d",
   "metadata": {},
   "outputs": [],
   "source": []
  },
  {
   "cell_type": "code",
   "execution_count": null,
   "id": "d68cffce",
   "metadata": {},
   "outputs": [],
   "source": []
  },
  {
   "cell_type": "code",
   "execution_count": 142,
   "id": "ceebec7c",
   "metadata": {},
   "outputs": [
    {
     "data": {
      "text/html": [
       "<div>\n",
       "<style scoped>\n",
       "    .dataframe tbody tr th:only-of-type {\n",
       "        vertical-align: middle;\n",
       "    }\n",
       "\n",
       "    .dataframe tbody tr th {\n",
       "        vertical-align: top;\n",
       "    }\n",
       "\n",
       "    .dataframe thead th {\n",
       "        text-align: right;\n",
       "    }\n",
       "</style>\n",
       "<table border=\"1\" class=\"dataframe\">\n",
       "  <thead>\n",
       "    <tr style=\"text-align: right;\">\n",
       "      <th></th>\n",
       "      <th>id</th>\n",
       "      <th>alcohol</th>\n",
       "      <th>malic_acid</th>\n",
       "      <th>ash</th>\n",
       "      <th>alcalinity_of_ash</th>\n",
       "      <th>magnesium</th>\n",
       "      <th>total_phenols</th>\n",
       "      <th>flavanoids</th>\n",
       "      <th>nonflavanoid_phenols</th>\n",
       "      <th>proanthocyanins</th>\n",
       "      <th>color_intensity</th>\n",
       "      <th>hue</th>\n",
       "      <th>od280/od315_of_diluted_wines</th>\n",
       "      <th>proline</th>\n",
       "      <th>target</th>\n",
       "    </tr>\n",
       "  </thead>\n",
       "  <tbody>\n",
       "    <tr>\n",
       "      <th>0</th>\n",
       "      <td>0</td>\n",
       "      <td>13.05</td>\n",
       "      <td>0.40</td>\n",
       "      <td>2.40</td>\n",
       "      <td>21.68</td>\n",
       "      <td>71.79</td>\n",
       "      <td>2.33</td>\n",
       "      <td>1.87</td>\n",
       "      <td>0.09</td>\n",
       "      <td>1.30</td>\n",
       "      <td>1.070000</td>\n",
       "      <td>1.13</td>\n",
       "      <td>2.45</td>\n",
       "      <td>96.79</td>\n",
       "      <td>1</td>\n",
       "    </tr>\n",
       "    <tr>\n",
       "      <th>1</th>\n",
       "      <td>1</td>\n",
       "      <td>13.01</td>\n",
       "      <td>3.66</td>\n",
       "      <td>2.21</td>\n",
       "      <td>16.53</td>\n",
       "      <td>98.87</td>\n",
       "      <td>2.46</td>\n",
       "      <td>2.34</td>\n",
       "      <td>0.28</td>\n",
       "      <td>1.49</td>\n",
       "      <td>3.690000</td>\n",
       "      <td>0.75</td>\n",
       "      <td>2.79</td>\n",
       "      <td>588.86</td>\n",
       "      <td>0</td>\n",
       "    </tr>\n",
       "    <tr>\n",
       "      <th>2</th>\n",
       "      <td>2</td>\n",
       "      <td>13.13</td>\n",
       "      <td>1.14</td>\n",
       "      <td>2.32</td>\n",
       "      <td>18.75</td>\n",
       "      <td>108.51</td>\n",
       "      <td>2.63</td>\n",
       "      <td>2.26</td>\n",
       "      <td>0.13</td>\n",
       "      <td>2.15</td>\n",
       "      <td>5.030000</td>\n",
       "      <td>0.86</td>\n",
       "      <td>2.66</td>\n",
       "      <td>954.80</td>\n",
       "      <td>0</td>\n",
       "    </tr>\n",
       "    <tr>\n",
       "      <th>3</th>\n",
       "      <td>3</td>\n",
       "      <td>12.06</td>\n",
       "      <td>1.41</td>\n",
       "      <td>2.04</td>\n",
       "      <td>16.58</td>\n",
       "      <td>73.52</td>\n",
       "      <td>0.84</td>\n",
       "      <td>-0.36</td>\n",
       "      <td>0.37</td>\n",
       "      <td>0.14</td>\n",
       "      <td>7.869999</td>\n",
       "      <td>0.37</td>\n",
       "      <td>1.01</td>\n",
       "      <td>194.88</td>\n",
       "      <td>2</td>\n",
       "    </tr>\n",
       "    <tr>\n",
       "      <th>4</th>\n",
       "      <td>4</td>\n",
       "      <td>12.35</td>\n",
       "      <td>1.14</td>\n",
       "      <td>1.91</td>\n",
       "      <td>19.52</td>\n",
       "      <td>77.65</td>\n",
       "      <td>2.09</td>\n",
       "      <td>1.98</td>\n",
       "      <td>0.27</td>\n",
       "      <td>1.03</td>\n",
       "      <td>4.620000</td>\n",
       "      <td>1.11</td>\n",
       "      <td>3.46</td>\n",
       "      <td>502.23</td>\n",
       "      <td>1</td>\n",
       "    </tr>\n",
       "  </tbody>\n",
       "</table>\n",
       "</div>"
      ],
      "text/plain": [
       "   id  alcohol  malic_acid   ash  alcalinity_of_ash  magnesium  total_phenols  \\\n",
       "0   0    13.05        0.40  2.40              21.68      71.79           2.33   \n",
       "1   1    13.01        3.66  2.21              16.53      98.87           2.46   \n",
       "2   2    13.13        1.14  2.32              18.75     108.51           2.63   \n",
       "3   3    12.06        1.41  2.04              16.58      73.52           0.84   \n",
       "4   4    12.35        1.14  1.91              19.52      77.65           2.09   \n",
       "\n",
       "   flavanoids  nonflavanoid_phenols  proanthocyanins  color_intensity   hue  \\\n",
       "0        1.87                  0.09             1.30         1.070000  1.13   \n",
       "1        2.34                  0.28             1.49         3.690000  0.75   \n",
       "2        2.26                  0.13             2.15         5.030000  0.86   \n",
       "3       -0.36                  0.37             0.14         7.869999  0.37   \n",
       "4        1.98                  0.27             1.03         4.620000  1.11   \n",
       "\n",
       "   od280/od315_of_diluted_wines  proline  target  \n",
       "0                          2.45    96.79       1  \n",
       "1                          2.79   588.86       0  \n",
       "2                          2.66   954.80       0  \n",
       "3                          1.01   194.88       2  \n",
       "4                          3.46   502.23       1  "
      ]
     },
     "execution_count": 142,
     "metadata": {},
     "output_type": "execute_result"
    }
   ],
   "source": [
    "dataset = pd.read_csv(\"/Users/arthur/work/pn2022/PN/data/wine/wine-m/train.csv\")\n",
    "dataset.head()"
   ]
  },
  {
   "cell_type": "code",
   "execution_count": 143,
   "id": "6856d2b9",
   "metadata": {},
   "outputs": [],
   "source": [
    "# Splitting datset to X and y axis \n",
    "\n",
    "X=dataset.iloc[: , 1:14].values\n",
    "y=dataset.iloc[: ,-1].values"
   ]
  },
  {
   "cell_type": "code",
   "execution_count": 144,
   "id": "e275bb1c",
   "metadata": {},
   "outputs": [],
   "source": [
    "from sklearn.model_selection import train_test_split\n",
    "X_train,X_test,y_train,y_test = train_test_split(X,y,test_size=0.2, random_state=44)"
   ]
  },
  {
   "cell_type": "code",
   "execution_count": 191,
   "id": "b5ee8b2d",
   "metadata": {},
   "outputs": [],
   "source": [
    "#Feature Scaling\n",
    "\n",
    "from sklearn.preprocessing import StandardScaler\n",
    "sc=StandardScaler()\n",
    "X_train = sc.fit_transform(X_train)\n",
    "X_test = sc.fit_transform(X_test)"
   ]
  },
  {
   "cell_type": "code",
   "execution_count": 192,
   "id": "49d2b5e1",
   "metadata": {},
   "outputs": [
    {
     "data": {
      "text/plain": [
       "((427, 13), (107, 13))"
      ]
     },
     "execution_count": 192,
     "metadata": {},
     "output_type": "execute_result"
    }
   ],
   "source": [
    "X_train.shape, X_test.shape"
   ]
  },
  {
   "cell_type": "code",
   "execution_count": 255,
   "id": "26ce4693",
   "metadata": {},
   "outputs": [
    {
     "name": "stdout",
     "output_type": "stream",
     "text": [
      "[[35  1  0]\n",
      " [ 0 41  2]\n",
      " [ 0  0 28]]\n"
     ]
    },
    {
     "data": {
      "text/plain": [
       "0.9719626168224299"
      ]
     },
     "execution_count": 255,
     "metadata": {},
     "output_type": "execute_result"
    }
   ],
   "source": [
    "## base model logistic regression\n",
    "logreg = LogisticRegression(penalty='none',multi_class='multinomial')\n",
    "\n",
    "#logreg = LogisticRegression(penalty='elasticnet', solver='saga',l1_ratio=0.1)\n",
    "logreg.fit(X_train,y_train)\n",
    "# Predicting the values\n",
    "y_pred=logreg.predict(X_test)\n",
    "#print(np.concatenate((y_pred.reshape(len(y_pred),1), y_test.reshape(len(y_test),1)),1))\n",
    "# Calculating quality for model\n",
    "\n",
    "from sklearn.metrics import confusion_matrix, accuracy_score\n",
    "cm = confusion_matrix(y_test, y_pred)\n",
    "print(cm)\n",
    "accuracy_score(y_test, y_pred)\n"
   ]
  },
  {
   "cell_type": "code",
   "execution_count": 256,
   "id": "0d9c086e",
   "metadata": {},
   "outputs": [
    {
     "data": {
      "text/plain": [
       "array([[ 10.20300696,   1.6930989 ,   6.943174  ,  -8.41799171,\n",
       "          0.52146428,  -2.98980975,   6.28364942,  -4.5024047 ,\n",
       "         -2.95697049,  -7.24990097,  -0.92044785,   6.10570544,\n",
       "          9.46564576],\n",
       "       [-10.87783018,  -2.17212502, -12.25744095,   7.30772657,\n",
       "         -0.80397581,   1.28453893,   4.7682052 ,   5.71005626,\n",
       "          1.42798769,  -3.96925927,   8.56102894,   1.08569621,\n",
       "        -10.59292482],\n",
       "       [  0.67482322,   0.47902612,   5.31426695,   1.11026514,\n",
       "          0.28251153,   1.70527082, -11.05185462,  -1.20765157,\n",
       "          1.5289828 ,  11.21916024,  -7.64058109,  -7.19140165,\n",
       "          1.12727906]])"
      ]
     },
     "execution_count": 256,
     "metadata": {},
     "output_type": "execute_result"
    }
   ],
   "source": [
    "logreg.coef_"
   ]
  },
  {
   "cell_type": "code",
   "execution_count": 259,
   "id": "4e942d5e",
   "metadata": {},
   "outputs": [
    {
     "name": "stdout",
     "output_type": "stream",
     "text": [
      "              precision    recall  f1-score   support\n",
      "\n",
      "           0       0.97      1.00      0.99        35\n",
      "           1       0.95      0.98      0.96        42\n",
      "           2       1.00      0.93      0.97        30\n",
      "\n",
      "    accuracy                           0.97       107\n",
      "   macro avg       0.98      0.97      0.97       107\n",
      "weighted avg       0.97      0.97      0.97       107\n",
      "\n"
     ]
    }
   ],
   "source": [
    "from sklearn.metrics import classification_report\n",
    "print(classification_report(y_pred, y_test))"
   ]
  },
  {
   "cell_type": "code",
   "execution_count": null,
   "id": "c0dfd4cf",
   "metadata": {},
   "outputs": [],
   "source": []
  },
  {
   "cell_type": "code",
   "execution_count": null,
   "id": "9af4041a",
   "metadata": {},
   "outputs": [],
   "source": []
  },
  {
   "cell_type": "code",
   "execution_count": null,
   "id": "a2caa94c",
   "metadata": {},
   "outputs": [],
   "source": []
  },
  {
   "cell_type": "code",
   "execution_count": 272,
   "id": "7a0af1b6",
   "metadata": {},
   "outputs": [
    {
     "name": "stdout",
     "output_type": "stream",
     "text": [
      "input data: size=427, dim=14\n",
      "input Y data: # of classes=3\n",
      "shape of P :(427, 3)\n",
      "gw shape:(14, 3)\n",
      "costs:\n",
      "[0.27978887896202537, 0.1908361949148315]\n",
      "shape of preds:(107,)\n",
      "[[34  2  0]\n",
      " [ 3 33  7]\n",
      " [ 0  0 28]]\n"
     ]
    },
    {
     "data": {
      "text/plain": [
       "0.8878504672897196"
      ]
     },
     "execution_count": 272,
     "metadata": {},
     "output_type": "execute_result"
    }
   ],
   "source": [
    "## our implementation\n",
    "logreg = mlr()\n",
    "\n",
    "#logreg = LogisticRegression(penalty='elasticnet', solver='saga',l1_ratio=0.1)\n",
    "logreg.fit(X_train,y_train)\n",
    "# Predicting the values\n",
    "y_pred=logreg.predict(X_test)\n",
    "#print(np.concatenate((y_pred.reshape(len(y_pred),1), y_test.reshape(len(y_test),1)),1))\n",
    "# Calculating quality for model\n",
    "\n",
    "from sklearn.metrics import confusion_matrix, accuracy_score\n",
    "cm = confusion_matrix(y_test, y_pred)\n",
    "print(cm)\n",
    "accuracy_score(y_test, y_pred)\n"
   ]
  },
  {
   "cell_type": "code",
   "execution_count": null,
   "id": "8d1f94db",
   "metadata": {},
   "outputs": [],
   "source": []
  },
  {
   "cell_type": "code",
   "execution_count": null,
   "id": "354df7d7",
   "metadata": {},
   "outputs": [],
   "source": []
  },
  {
   "cell_type": "code",
   "execution_count": 283,
   "id": "44e338ee",
   "metadata": {},
   "outputs": [
    {
     "name": "stdout",
     "output_type": "stream",
     "text": [
      "input data: size=427, dim=14\n",
      "input Y data: # of classes=3\n",
      "shape of P :(427, 3)\n",
      "gw shape:(14, 3)\n",
      "costs:\n",
      "[0.9353356912266297, 0.7928947077999113, 0.6685859992480612, 0.5618630581371131, 0.47148775072571464, 0.3957747112952101, 0.33283916105477934, 0.2807931705325173, 0.23787449890179604, 0.20251514372002657, 0.17336557552757287, 0.14929094204066604, 0.12935212005859253, 0.11278036882264995, 0.09895086642488764, 0.0873579461935702, 0.07759328509035349, 0.06932738996520921, 0.06229425204813161, 0.05627882440340935, 0.051106907342713774, 0.046637032654343866, 0.04275397802453297, 0.039363595692117906, 0.03638869262690465, 0.0337657480111342, 0.03144229556259057, 0.029374833022017887, 0.027527149494393294, 0.025868984147933222, 0.024374947954959664, 0.023023654558548778, 0.021797017710294478, 0.020679681668155907, 0.01965855797579867, 0.018722447573047724, 0.01786173153453668, 0.017068117155632414, 0.016334428801744946, 0.0156544350661902, 0.015022705465568408, 0.0144344912359833, 0.01388562585318193, 0.013372441743296184, 0.012891700324009655, 0.012440533054428608, 0.012016391603739957, 0.011617005595906766, 0.011240346667494698, 0.010884597801897987, 0.010548127086499515, 0.010229465188208312, 0.009927285964115868, 0.00964038972309022, 0.009367688735261849, 0.00910819465298148, 0.008861007561670334, 0.008625306424258503, 0.008400340720365825, 0.00818542311246215, 0.007979922997098625, 0.007783260820855976, 0.0075949030586841895, 0.007414357767408424, 0.007241170639867297, 0.007074921495838278, 0.006915221154926245, 0.006761708644228474, 0.006614048700063226, 0.006471929528561314, 0.006335060794607003, 0.006203171812629304, 0.006076009916170826, 0.005953338986110875, 0.005834938119946861, 0.0057206004267234345, 0.0056101319340795645, 0.005503350595517245, 0.00540008538740646, 0.005300175486471339, 0.005203469519571398, 0.005109824878525325, 0.005019107093537802, 0.004931189259507906, 0.0048459515101220265, 0.004763280535182519, 0.004683069137112728, 0.004605215823003592, 0.004529624428944639, 0.004456203773717448, 0.004384867339226678, 0.0043155329753038155, 0.004248122626755916, 0.004182562080737882, 0.0041187807327139345, 0.0040567113694371494, 0.003996289967527364, 0.00393745550636066, 0.003880149794096609, 0.0038243173057874455]\n",
      "shape of preds:(107,)\n",
      "[[35  1  0]\n",
      " [ 0 41  2]\n",
      " [ 0  0 28]]\n"
     ]
    },
    {
     "data": {
      "text/plain": [
       "0.9719626168224299"
      ]
     },
     "execution_count": 283,
     "metadata": {},
     "output_type": "execute_result"
    }
   ],
   "source": [
    "## our implementation\n",
    "logreg = mlr_hess()\n",
    "\n",
    "#logreg = LogisticRegression(penalty='elasticnet', solver='saga',l1_ratio=0.1)\n",
    "logreg.fit(X_train,y_train)\n",
    "# Predicting the values\n",
    "y_pred=logreg.predict(X_test)\n",
    "#print(np.concatenate((y_pred.reshape(len(y_pred),1), y_test.reshape(len(y_test),1)),1))\n",
    "# Calculating quality for model\n",
    "\n",
    "from sklearn.metrics import confusion_matrix, accuracy_score\n",
    "cm = confusion_matrix(y_test, y_pred)\n",
    "print(cm)\n",
    "accuracy_score(y_test, y_pred)\n"
   ]
  },
  {
   "cell_type": "code",
   "execution_count": null,
   "id": "009898e7",
   "metadata": {},
   "outputs": [],
   "source": []
  },
  {
   "cell_type": "code",
   "execution_count": null,
   "id": "71639b18",
   "metadata": {},
   "outputs": [],
   "source": []
  },
  {
   "cell_type": "code",
   "execution_count": null,
   "id": "e3f874d2",
   "metadata": {},
   "outputs": [],
   "source": []
  },
  {
   "cell_type": "code",
   "execution_count": null,
   "id": "a6b768c2",
   "metadata": {},
   "outputs": [],
   "source": []
  },
  {
   "cell_type": "code",
   "execution_count": null,
   "id": "2c4d8754",
   "metadata": {},
   "outputs": [],
   "source": []
  },
  {
   "cell_type": "code",
   "execution_count": 69,
   "id": "7c357c80",
   "metadata": {},
   "outputs": [],
   "source": [
    "from sklearn.linear_model import LinearRegression\n",
    "lm = LinearRegression()"
   ]
  },
  {
   "cell_type": "code",
   "execution_count": 287,
   "id": "b40e6eb2",
   "metadata": {},
   "outputs": [
    {
     "name": "stdout",
     "output_type": "stream",
     "text": [
      "(506, 13)\n"
     ]
    },
    {
     "name": "stderr",
     "output_type": "stream",
     "text": [
      "/Library/Frameworks/Python.framework/Versions/3.8/lib/python3.8/site-packages/sklearn/utils/deprecation.py:87: FutureWarning: Function load_boston is deprecated; `load_boston` is deprecated in 1.0 and will be removed in 1.2.\n",
      "\n",
      "    The Boston housing prices dataset has an ethical problem. You can refer to\n",
      "    the documentation of this function for further details.\n",
      "\n",
      "    The scikit-learn maintainers therefore strongly discourage the use of this\n",
      "    dataset unless the purpose of the code is to study and educate about\n",
      "    ethical issues in data science and machine learning.\n",
      "\n",
      "    In this special case, you can fetch the dataset from the original\n",
      "    source::\n",
      "\n",
      "        import pandas as pd\n",
      "        import numpy as np\n",
      "\n",
      "\n",
      "        data_url = \"http://lib.stat.cmu.edu/datasets/boston\"\n",
      "        raw_df = pd.read_csv(data_url, sep=\"\\s+\", skiprows=22, header=None)\n",
      "        data = np.hstack([raw_df.values[::2, :], raw_df.values[1::2, :2]])\n",
      "        target = raw_df.values[1::2, 2]\n",
      "\n",
      "    Alternative datasets include the California housing dataset (i.e.\n",
      "    :func:`~sklearn.datasets.fetch_california_housing`) and the Ames housing\n",
      "    dataset. You can load the datasets as follows::\n",
      "\n",
      "        from sklearn.datasets import fetch_california_housing\n",
      "        housing = fetch_california_housing()\n",
      "\n",
      "    for the California housing dataset and::\n",
      "\n",
      "        from sklearn.datasets import fetch_openml\n",
      "        housing = fetch_openml(name=\"house_prices\", as_frame=True)\n",
      "\n",
      "    for the Ames housing dataset.\n",
      "    \n",
      "  warnings.warn(msg, category=FutureWarning)\n"
     ]
    }
   ],
   "source": [
    "from sklearn.datasets import load_boston\n",
    "boston = load_boston()\n",
    "print(boston.data.shape)"
   ]
  },
  {
   "cell_type": "code",
   "execution_count": 288,
   "id": "1788ddc7",
   "metadata": {},
   "outputs": [
    {
     "data": {
      "text/plain": [
       "(506, 13)"
      ]
     },
     "execution_count": 288,
     "metadata": {},
     "output_type": "execute_result"
    }
   ],
   "source": [
    "boston.data.shape"
   ]
  },
  {
   "cell_type": "code",
   "execution_count": 65,
   "id": "a681f21d",
   "metadata": {},
   "outputs": [
    {
     "data": {
      "text/plain": [
       "numpy.ndarray"
      ]
     },
     "execution_count": 65,
     "metadata": {},
     "output_type": "execute_result"
    }
   ],
   "source": [
    "type(boston.data)"
   ]
  },
  {
   "cell_type": "code",
   "execution_count": null,
   "id": "94868a04",
   "metadata": {},
   "outputs": [],
   "source": [
    "X_train,X_test,y_train,y_test = train_test_split(boston.data,boston.target,test_size=0.2, random_state=44)"
   ]
  },
  {
   "cell_type": "code",
   "execution_count": 73,
   "id": "4f221e44",
   "metadata": {},
   "outputs": [
    {
     "data": {
      "text/plain": [
       "LinearRegression()"
      ]
     },
     "execution_count": 73,
     "metadata": {},
     "output_type": "execute_result"
    }
   ],
   "source": [
    "lm.fit(X_train, y_train)"
   ]
  },
  {
   "cell_type": "code",
   "execution_count": 74,
   "id": "13854a2f",
   "metadata": {},
   "outputs": [],
   "source": [
    "ypred=lm.predict(X_test)"
   ]
  },
  {
   "cell_type": "code",
   "execution_count": 76,
   "id": "8962263a",
   "metadata": {},
   "outputs": [
    {
     "name": "stdout",
     "output_type": "stream",
     "text": [
      "MSE: 0.1846\n"
     ]
    }
   ],
   "source": [
    "from sklearn.metrics import mean_squared_error\n",
    "mse = mean_squared_error(y_test, ypred)\n",
    "print(\"MSE: %.4f\" % mse)\n"
   ]
  },
  {
   "cell_type": "code",
   "execution_count": 79,
   "id": "983f9c16",
   "metadata": {},
   "outputs": [
    {
     "data": {
      "text/plain": [
       "506"
      ]
     },
     "execution_count": 79,
     "metadata": {},
     "output_type": "execute_result"
    }
   ],
   "source": [
    "len(boston.target)"
   ]
  },
  {
   "cell_type": "code",
   "execution_count": null,
   "id": "74e85f68",
   "metadata": {},
   "outputs": [],
   "source": []
  }
 ],
 "metadata": {
  "kernelspec": {
   "display_name": "Python 3 (ipykernel)",
   "language": "python",
   "name": "python3"
  },
  "language_info": {
   "codemirror_mode": {
    "name": "ipython",
    "version": 3
   },
   "file_extension": ".py",
   "mimetype": "text/x-python",
   "name": "python",
   "nbconvert_exporter": "python",
   "pygments_lexer": "ipython3",
   "version": "3.8.3"
  }
 },
 "nbformat": 4,
 "nbformat_minor": 5
}
