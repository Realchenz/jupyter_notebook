{
 "cells": [
  {
   "cell_type": "code",
   "execution_count": 7,
   "id": "5d039898-4dee-47e7-9077-915ed60be5f3",
   "metadata": {},
   "outputs": [],
   "source": [
    "import numpy as np\n",
    "import pandas as pd"
   ]
  },
  {
   "cell_type": "code",
   "execution_count": 8,
   "id": "1a0fa5ff-7ced-4367-abfe-9a17c3f6434e",
   "metadata": {
    "tags": []
   },
   "outputs": [],
   "source": [
    "data_url = \"http://lib.stat.cmu.edu/datasets/boston\"\n",
    "raw_df = pd.read_csv(data_url, sep=\"\\s+\", skiprows=22, header=None)\n",
    "X = np.hstack([raw_df.values[::2, :], raw_df.values[1::2, :2]])\n",
    "Y = raw_df.values[1::2, 2]"
   ]
  },
  {
   "cell_type": "code",
   "execution_count": 9,
   "id": "bc22d127-9311-4933-ba17-e8e1aba83af2",
   "metadata": {},
   "outputs": [],
   "source": [
    "X = np.column_stack((np.ones(X.shape[0]), X))"
   ]
  },
  {
   "cell_type": "code",
   "execution_count": 10,
   "id": "1dec7c89-6011-458d-a2a2-dafda8bc1e2e",
   "metadata": {},
   "outputs": [],
   "source": [
    "X_transpose = np.transpose(X)\n",
    "X_transpose_X = np.dot(X_transpose, X)\n",
    "X_transpose_Y = np.dot(X_transpose, Y)\n",
    "beta = np.linalg.solve(X_transpose_X, X_transpose_Y)"
   ]
  },
  {
   "cell_type": "code",
   "execution_count": 11,
   "id": "0581524b-f50b-4f81-b8c5-f59ec4b6b65d",
   "metadata": {
    "tags": []
   },
   "outputs": [],
   "source": [
    "Y_pred = np.dot(X, beta)\n",
    "mse = np.mean((Y - Y_pred) ** 2)"
   ]
  },
  {
   "cell_type": "code",
   "execution_count": 12,
   "id": "d22f60b6-3870-4c35-b33b-47799a232ecd",
   "metadata": {
    "tags": []
   },
   "outputs": [
    {
     "name": "stdout",
     "output_type": "stream",
     "text": [
      "Weight vector (β): [ 3.64594884e+01 -1.08011358e-01  4.64204584e-02  2.05586264e-02\n",
      "  2.68673382e+00 -1.77666112e+01  3.80986521e+00  6.92224640e-04\n",
      " -1.47556685e+00  3.06049479e-01 -1.23345939e-02 -9.52747232e-01\n",
      "  9.31168327e-03 -5.24758378e-01]\n",
      "\n",
      "Mean Squared Error (MSE): 21.894831181729206\n"
     ]
    }
   ],
   "source": [
    "print(\"Weight vector (β):\", beta)\n",
    "print(\"\\nMean Squared Error (MSE):\", mse)"
   ]
  }
 ],
 "metadata": {
  "kernelspec": {
   "display_name": "Python 3 (ipykernel)",
   "language": "python",
   "name": "python3"
  },
  "language_info": {
   "codemirror_mode": {
    "name": "ipython",
    "version": 3
   },
   "file_extension": ".py",
   "mimetype": "text/x-python",
   "name": "python",
   "nbconvert_exporter": "python",
   "pygments_lexer": "ipython3",
   "version": "3.11.6"
  }
 },
 "nbformat": 4,
 "nbformat_minor": 5
}
