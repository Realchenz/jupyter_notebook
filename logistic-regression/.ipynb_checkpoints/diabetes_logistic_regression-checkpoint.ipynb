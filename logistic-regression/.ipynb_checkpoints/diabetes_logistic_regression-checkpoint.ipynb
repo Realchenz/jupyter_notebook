{
 "cells": [
  {
   "cell_type": "code",
   "execution_count": null,
   "id": "800ef324-cb75-45ed-a33d-0b5ab1b64ac3",
   "metadata": {},
   "outputs": [],
   "source": [
    "import pandas as pd"
   ]
  },
  {
   "cell_type": "code",
   "execution_count": null,
   "id": "4688aa1c-333a-4458-898b-0fd001c37c2a",
   "metadata": {},
   "outputs": [],
   "source": [
    "dataset = pd.read_csv('diabetes_dataset.csv')"
   ]
  }
 ],
 "metadata": {
  "kernelspec": {
   "display_name": "Python 3 (ipykernel)",
   "language": "python",
   "name": "python3"
  },
  "language_info": {
   "codemirror_mode": {
    "name": "ipython",
    "version": 3
   },
   "file_extension": ".py",
   "mimetype": "text/x-python",
   "name": "python",
   "nbconvert_exporter": "python",
   "pygments_lexer": "ipython3",
   "version": "3.11.4"
  }
 },
 "nbformat": 4,
 "nbformat_minor": 5
}
